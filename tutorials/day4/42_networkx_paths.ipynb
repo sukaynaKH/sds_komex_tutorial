{
 "cells": [
  {
   "cell_type": "markdown",
   "metadata": {},
   "source": [
    "# Networkx Advanced Concepts\n",
    "\n",
    "Parts of this tutorial were adapted from the material associated with the textbook \"A First Course in Network Science\" by Filippo Menczer, Santo Fortunato & Clayton A. Davis. You can find the materials for a deeper dive here: https://github.com/CambridgeUniversityPress/FirstCourseNetworkScience and the book here: https://www.cambridge.org/us/universitypress/subjects/physics/statistical-physics/first-course-network-science"
   ]
  },
  {
   "cell_type": "code",
   "execution_count": 1,
   "metadata": {
    "collapsed": true,
    "jupyter": {
     "outputs_hidden": true
    }
   },
   "outputs": [],
   "source": [
    "import networkx as nx\n",
    "%matplotlib inline"
   ]
  },
  {
   "cell_type": "markdown",
   "metadata": {},
   "source": [
    "We will now look into more advanced Graph theory concepts, namely:\n",
    "\n",
    "1. Paths\n",
    "2. Connected components\n",
    "3. Directed paths\n",
    "4. Hubs \n",
    "5. Centrality Measures"
   ]
  },
  {
   "cell_type": "markdown",
   "metadata": {},
   "source": [
    "# 1. Paths\n",
    "\n",
    "Let's start with a very simple, undirected network."
   ]
  },
  {
   "cell_type": "code",
   "execution_count": 2,
   "metadata": {
    "collapsed": true,
    "jupyter": {
     "outputs_hidden": true
    }
   },
   "outputs": [
    {
     "data": {
      "image/png": "[encoded data removed]",
      "text/plain": [
       "<Figure size 432x288 with 1 Axes>"
      ]
     },
     "metadata": {},
     "output_type": "display_data"
    }
   ],
   "source": [
    "G = nx.Graph()\n",
    "\n",
    "G.add_nodes_from([1,2,3,4])\n",
    "\n",
    "G.add_edges_from([(1,2),(2,3),(1,3),(1,4)])\n",
    "\n",
    "nx.draw(G, with_labels=True)"
   ]
  },
  {
   "cell_type": "markdown",
   "metadata": {},
   "source": [
    "A *path* in a network is a sequence of edges connecting two nodes. In this simple example, we can easily see that there is indeed at least one path that connects nodes 3 and 4. We can verify this with NetworkX:"
   ]
  },
  {
   "cell_type": "code",
   "execution_count": 3,
   "metadata": {
    "collapsed": true,
    "jupyter": {
     "outputs_hidden": true
    }
   },
   "outputs": [
    {
     "data": {
      "text/plain": [
       "True"
      ]
     },
     "execution_count": 3,
     "metadata": {},
     "output_type": "execute_result"
    }
   ],
   "source": [
    "nx.has_path(G, 3, 4)"
   ]
  },
  {
   "cell_type": "markdown",
   "metadata": {},
   "source": [
    "There can be more than one path between two nodes. Again considering nodes 3 and 4, there are two such \"simple\" paths:"
   ]
  },
  {
   "cell_type": "code",
   "execution_count": 4,
   "metadata": {
    "collapsed": true,
    "jupyter": {
     "outputs_hidden": true
    }
   },
   "outputs": [
    {
     "data": {
      "text/plain": [
       "[[3, 2, 1, 4], [3, 1, 4]]"
      ]
     },
     "execution_count": 4,
     "metadata": {},
     "output_type": "execute_result"
    }
   ],
   "source": [
    "list(nx.all_simple_paths(G, 3, 4))"
   ]
  },
  {
   "cell_type": "markdown",
   "metadata": {},
   "source": [
    "A simple path is one without any cycles. If we allowed cycles, there would be infinitely many paths because one could always just go around the cycle as many times as desired.\n",
    "\n",
    "We are often most interested in *shortest* paths. In an unweighted network, the shortest path is the one with the fewest edges. We can see that of the two simple paths between nodes 3 and 4, one is shorter than the other. We can get this shortest path with a single NetworkX function:"
   ]
  },
  {
   "cell_type": "code",
   "execution_count": 5,
   "metadata": {
    "collapsed": true,
    "jupyter": {
     "outputs_hidden": true
    }
   },
   "outputs": [
    {
     "data": {
      "text/plain": [
       "[3, 1, 4]"
      ]
     },
     "execution_count": 5,
     "metadata": {},
     "output_type": "execute_result"
    }
   ],
   "source": [
    "nx.shortest_path(G, 3, 4)"
   ]
  },
  {
   "cell_type": "markdown",
   "metadata": {},
   "source": [
    "If you only care about the path length, there's a function for that too:"
   ]
  },
  {
   "cell_type": "code",
   "execution_count": 6,
   "metadata": {
    "collapsed": true,
    "jupyter": {
     "outputs_hidden": true
    }
   },
   "outputs": [
    {
     "data": {
      "text/plain": [
       "2"
      ]
     },
     "execution_count": 6,
     "metadata": {},
     "output_type": "execute_result"
    }
   ],
   "source": [
    "nx.shortest_path_length(G, 3, 4)"
   ]
  },
  {
   "cell_type": "markdown",
   "metadata": {},
   "source": [
    "Note that a path length is defined here by the number of *edges* in the path, not the number of nodes, which implies\n",
    "\n",
    "    nx.shortest_path_length(G, u, v) == len(nx.shortest_path(G, u, v)) - 1\n",
    "    \n",
    "for nodes $u$ and $v$."
   ]
  },
  {
   "cell_type": "markdown",
   "metadata": {},
   "source": [
    "# 2. Connected components\n",
    "\n",
    "In the simple network above, we can see that for *every* pair of nodes, we can find a path connecting them. This is the definition of a *connected* graph. We can check this property for a given graph:"
   ]
  },
  {
   "cell_type": "code",
   "execution_count": 41,
   "metadata": {},
   "outputs": [
    {
     "data": {
      "text/plain": [
       "True"
      ]
     },
     "execution_count": 41,
     "metadata": {},
     "output_type": "execute_result"
    }
   ],
   "source": [
    "nx.is_connected(G)"
   ]
  },
  {
   "cell_type": "markdown",
   "metadata": {},
   "source": [
    "Not every graph is connected:"
   ]
  },
  {
   "cell_type": "code",
   "execution_count": 42,
   "metadata": {},
   "outputs": [
    {
     "data": {
      "image/png": "[encoded data removed]",
      "text/plain": [
       "<Figure size 432x288 with 1 Axes>"
      ]
     },
     "metadata": {},
     "output_type": "display_data"
    }
   ],
   "source": [
    "G = nx.Graph()\n",
    "\n",
    "nx.add_cycle(G, (1,2,3))\n",
    "G.add_edge(4,5)\n",
    "\n",
    "nx.draw(G, with_labels=True)"
   ]
  },
  {
   "cell_type": "code",
   "execution_count": 43,
   "metadata": {},
   "outputs": [
    {
     "data": {
      "text/plain": [
       "False"
      ]
     },
     "execution_count": 43,
     "metadata": {},
     "output_type": "execute_result"
    }
   ],
   "source": [
    "nx.is_connected(G)"
   ]
  },
  {
   "cell_type": "markdown",
   "metadata": {},
   "source": [
    "And NetworkX will raise an error if you ask for a path between nodes where none exists:"
   ]
  },
  {
   "cell_type": "code",
   "execution_count": 44,
   "metadata": {},
   "outputs": [
    {
     "data": {
      "text/plain": [
       "False"
      ]
     },
     "execution_count": 44,
     "metadata": {},
     "output_type": "execute_result"
    }
   ],
   "source": [
    "nx.has_path(G, 3, 5)"
   ]
  },
  {
   "cell_type": "code",
   "execution_count": 45,
   "metadata": {
    "scrolled": true,
    "tags": [
     "raises-exception"
    ]
   },
   "outputs": [
    {
     "ename": "NetworkXNoPath",
     "evalue": "No path between 3 and 5.",
     "output_type": "error",
     "traceback": [
      "\u001b[0;31m---------------------------------------------------------------------------\u001b[0m",
      "\u001b[0;31mNetworkXNoPath\u001b[0m                            Traceback (most recent call last)",
      "\u001b[0;32m/tmp/ipykernel_20861/1624275718.py\u001b[0m in \u001b[0;36m<module>\u001b[0;34m\u001b[0m\n\u001b[0;32m----> 1\u001b[0;31m \u001b[0mnx\u001b[0m\u001b[0;34m.\u001b[0m\u001b[0mshortest_path\u001b[0m\u001b[0;34m(\u001b[0m\u001b[0mG\u001b[0m\u001b[0;34m,\u001b[0m \u001b[0;36m3\u001b[0m\u001b[0;34m,\u001b[0m \u001b[0;36m5\u001b[0m\u001b[0;34m)\u001b[0m\u001b[0;34m\u001b[0m\u001b[0;34m\u001b[0m\u001b[0m\n\u001b[0m",
      "\u001b[0;32m~/.local/lib/python3.10/site-packages/networkx/utils/backends.py\u001b[0m in \u001b[0;36m__call__\u001b[0;34m(self, backend, *args, **kwargs)\u001b[0m\n\u001b[1;32m    410\u001b[0m         \u001b[0;32mif\u001b[0m \u001b[0;32mnot\u001b[0m \u001b[0mbackends\u001b[0m\u001b[0;34m:\u001b[0m\u001b[0;34m\u001b[0m\u001b[0;34m\u001b[0m\u001b[0m\n\u001b[1;32m    411\u001b[0m             \u001b[0;31m# Fast path if no backends are installed\u001b[0m\u001b[0;34m\u001b[0m\u001b[0;34m\u001b[0m\u001b[0m\n\u001b[0;32m--> 412\u001b[0;31m             \u001b[0;32mreturn\u001b[0m \u001b[0mself\u001b[0m\u001b[0;34m.\u001b[0m\u001b[0morig_func\u001b[0m\u001b[0;34m(\u001b[0m\u001b[0;34m*\u001b[0m\u001b[0margs\u001b[0m\u001b[0;34m,\u001b[0m \u001b[0;34m**\u001b[0m\u001b[0mkwargs\u001b[0m\u001b[0;34m)\u001b[0m\u001b[0;34m\u001b[0m\u001b[0;34m\u001b[0m\u001b[0m\n\u001b[0m\u001b[1;32m    413\u001b[0m \u001b[0;34m\u001b[0m\u001b[0m\n\u001b[1;32m    414\u001b[0m         \u001b[0;31m# Use `backend_name` in this function instead of `backend`\u001b[0m\u001b[0;34m\u001b[0m\u001b[0;34m\u001b[0m\u001b[0m\n",
      "\u001b[0;32m~/.local/lib/python3.10/site-packages/networkx/algorithms/shortest_paths/generic.py\u001b[0m in \u001b[0;36mshortest_path\u001b[0;34m(G, source, target, weight, method)\u001b[0m\n\u001b[1;32m    171\u001b[0m             \u001b[0;31m# Find shortest source-target path.\u001b[0m\u001b[0;34m\u001b[0m\u001b[0;34m\u001b[0m\u001b[0m\n\u001b[1;32m    172\u001b[0m             \u001b[0;32mif\u001b[0m \u001b[0mmethod\u001b[0m \u001b[0;34m==\u001b[0m \u001b[0;34m\"unweighted\"\u001b[0m\u001b[0;34m:\u001b[0m\u001b[0;34m\u001b[0m\u001b[0;34m\u001b[0m\u001b[0m\n\u001b[0;32m--> 173\u001b[0;31m                 \u001b[0mpaths\u001b[0m \u001b[0;34m=\u001b[0m \u001b[0mnx\u001b[0m\u001b[0;34m.\u001b[0m\u001b[0mbidirectional_shortest_path\u001b[0m\u001b[0;34m(\u001b[0m\u001b[0mG\u001b[0m\u001b[0;34m,\u001b[0m \u001b[0msource\u001b[0m\u001b[0;34m,\u001b[0m \u001b[0mtarget\u001b[0m\u001b[0;34m)\u001b[0m\u001b[0;34m\u001b[0m\u001b[0;34m\u001b[0m\u001b[0m\n\u001b[0m\u001b[1;32m    174\u001b[0m             \u001b[0;32melif\u001b[0m \u001b[0mmethod\u001b[0m \u001b[0;34m==\u001b[0m \u001b[0;34m\"dijkstra\"\u001b[0m\u001b[0;34m:\u001b[0m\u001b[0;34m\u001b[0m\u001b[0;34m\u001b[0m\u001b[0m\n\u001b[1;32m    175\u001b[0m                 \u001b[0m_\u001b[0m\u001b[0;34m,\u001b[0m \u001b[0mpaths\u001b[0m \u001b[0;34m=\u001b[0m \u001b[0mnx\u001b[0m\u001b[0;34m.\u001b[0m\u001b[0mbidirectional_dijkstra\u001b[0m\u001b[0;34m(\u001b[0m\u001b[0mG\u001b[0m\u001b[0;34m,\u001b[0m \u001b[0msource\u001b[0m\u001b[0;34m,\u001b[0m \u001b[0mtarget\u001b[0m\u001b[0;34m,\u001b[0m \u001b[0mweight\u001b[0m\u001b[0;34m)\u001b[0m\u001b[0;34m\u001b[0m\u001b[0;34m\u001b[0m\u001b[0m\n",
      "\u001b[0;32m~/.local/lib/python3.10/site-packages/networkx/utils/backends.py\u001b[0m in \u001b[0;36m__call__\u001b[0;34m(self, backend, *args, **kwargs)\u001b[0m\n\u001b[1;32m    410\u001b[0m         \u001b[0;32mif\u001b[0m \u001b[0;32mnot\u001b[0m \u001b[0mbackends\u001b[0m\u001b[0;34m:\u001b[0m\u001b[0;34m\u001b[0m\u001b[0;34m\u001b[0m\u001b[0m\n\u001b[1;32m    411\u001b[0m             \u001b[0;31m# Fast path if no backends are installed\u001b[0m\u001b[0;34m\u001b[0m\u001b[0;34m\u001b[0m\u001b[0m\n\u001b[0;32m--> 412\u001b[0;31m             \u001b[0;32mreturn\u001b[0m \u001b[0mself\u001b[0m\u001b[0;34m.\u001b[0m\u001b[0morig_func\u001b[0m\u001b[0;34m(\u001b[0m\u001b[0;34m*\u001b[0m\u001b[0margs\u001b[0m\u001b[0;34m,\u001b[0m \u001b[0;34m**\u001b[0m\u001b[0mkwargs\u001b[0m\u001b[0;34m)\u001b[0m\u001b[0;34m\u001b[0m\u001b[0;34m\u001b[0m\u001b[0m\n\u001b[0m\u001b[1;32m    413\u001b[0m \u001b[0;34m\u001b[0m\u001b[0m\n\u001b[1;32m    414\u001b[0m         \u001b[0;31m# Use `backend_name` in this function instead of `backend`\u001b[0m\u001b[0;34m\u001b[0m\u001b[0;34m\u001b[0m\u001b[0m\n",
      "\u001b[0;32m~/.local/lib/python3.10/site-packages/networkx/algorithms/shortest_paths/unweighted.py\u001b[0m in \u001b[0;36mbidirectional_shortest_path\u001b[0;34m(G, source, target)\u001b[0m\n\u001b[1;32m    239\u001b[0m \u001b[0;34m\u001b[0m\u001b[0m\n\u001b[1;32m    240\u001b[0m     \u001b[0;31m# call helper to do the real work\u001b[0m\u001b[0;34m\u001b[0m\u001b[0;34m\u001b[0m\u001b[0m\n\u001b[0;32m--> 241\u001b[0;31m     \u001b[0mresults\u001b[0m \u001b[0;34m=\u001b[0m \u001b[0m_bidirectional_pred_succ\u001b[0m\u001b[0;34m(\u001b[0m\u001b[0mG\u001b[0m\u001b[0;34m,\u001b[0m \u001b[0msource\u001b[0m\u001b[0;34m,\u001b[0m \u001b[0mtarget\u001b[0m\u001b[0;34m)\u001b[0m\u001b[0;34m\u001b[0m\u001b[0;34m\u001b[0m\u001b[0m\n\u001b[0m\u001b[1;32m    242\u001b[0m     \u001b[0mpred\u001b[0m\u001b[0;34m,\u001b[0m \u001b[0msucc\u001b[0m\u001b[0;34m,\u001b[0m \u001b[0mw\u001b[0m \u001b[0;34m=\u001b[0m \u001b[0mresults\u001b[0m\u001b[0;34m\u001b[0m\u001b[0;34m\u001b[0m\u001b[0m\n\u001b[1;32m    243\u001b[0m \u001b[0;34m\u001b[0m\u001b[0m\n",
      "\u001b[0;32m~/.local/lib/python3.10/site-packages/networkx/algorithms/shortest_paths/unweighted.py\u001b[0m in \u001b[0;36m_bidirectional_pred_succ\u001b[0;34m(G, source, target)\u001b[0m\n\u001b[1;32m    307\u001b[0m                         \u001b[0;32mreturn\u001b[0m \u001b[0mpred\u001b[0m\u001b[0;34m,\u001b[0m \u001b[0msucc\u001b[0m\u001b[0;34m,\u001b[0m \u001b[0mw\u001b[0m\u001b[0;34m\u001b[0m\u001b[0;34m\u001b[0m\u001b[0m\n\u001b[1;32m    308\u001b[0m \u001b[0;34m\u001b[0m\u001b[0m\n\u001b[0;32m--> 309\u001b[0;31m     \u001b[0;32mraise\u001b[0m \u001b[0mnx\u001b[0m\u001b[0;34m.\u001b[0m\u001b[0mNetworkXNoPath\u001b[0m\u001b[0;34m(\u001b[0m\u001b[0;34mf\"No path between {source} and {target}.\"\u001b[0m\u001b[0;34m)\u001b[0m\u001b[0;34m\u001b[0m\u001b[0;34m\u001b[0m\u001b[0m\n\u001b[0m\u001b[1;32m    310\u001b[0m \u001b[0;34m\u001b[0m\u001b[0m\n\u001b[1;32m    311\u001b[0m \u001b[0;34m\u001b[0m\u001b[0m\n",
      "\u001b[0;31mNetworkXNoPath\u001b[0m: No path between 3 and 5."
     ]
    }
   ],
   "source": [
    "nx.shortest_path(G, 3, 5)"
   ]
  },
  {
   "cell_type": "markdown",
   "metadata": {},
   "source": [
    "Visually, we can identify two connected components in our graph. Let's verify this:"
   ]
  },
  {
   "cell_type": "code",
   "execution_count": 46,
   "metadata": {},
   "outputs": [
    {
     "data": {
      "text/plain": [
       "2"
      ]
     },
     "execution_count": 46,
     "metadata": {},
     "output_type": "execute_result"
    }
   ],
   "source": [
    "nx.number_connected_components(G)"
   ]
  },
  {
   "cell_type": "markdown",
   "metadata": {},
   "source": [
    "The `nx.connected_components()` function takes a graph and returns a list of sets of node names, one such set for each connected component. Verify that the two sets in the following list correspond to the two connected components in the drawing of the graph above:"
   ]
  },
  {
   "cell_type": "code",
   "execution_count": 47,
   "metadata": {},
   "outputs": [
    {
     "data": {
      "text/plain": [
       "[{1, 2, 3}, {4, 5}]"
      ]
     },
     "execution_count": 47,
     "metadata": {},
     "output_type": "execute_result"
    }
   ],
   "source": [
    "list(nx.connected_components(G))"
   ]
  },
  {
   "cell_type": "markdown",
   "metadata": {},
   "source": [
    "In case you're not familiar with Python sets, they are collections of items without duplicates. These are useful for collecting node names because node names should be unique. As with other collections, we can get the number of items in a set with the `len` function:"
   ]
  },
  {
   "cell_type": "code",
   "execution_count": 48,
   "metadata": {},
   "outputs": [
    {
     "data": {
      "text/plain": [
       "3"
      ]
     },
     "execution_count": 48,
     "metadata": {},
     "output_type": "execute_result"
    }
   ],
   "source": [
    "components = list(nx.connected_components(G))\n",
    "len(components[0])"
   ]
  },
  {
   "cell_type": "markdown",
   "metadata": {},
   "source": [
    "We often care about the largest connected component, which is sometimes referred to as the *core* of the network. We can make use of Python's builtin `max` function in order to obtain the largest connected component. By default, Python's `max` function sorts things in lexicographic (i.e. alphabetical) order, which is not helpful here. We want the maximum connected component when sorted in order of their sizes, so we pass `len` as a key function:"
   ]
  },
  {
   "cell_type": "code",
   "execution_count": 49,
   "metadata": {},
   "outputs": [
    {
     "data": {
      "text/plain": [
       "{1, 2, 3}"
      ]
     },
     "execution_count": 49,
     "metadata": {},
     "output_type": "execute_result"
    }
   ],
   "source": [
    "max(nx.connected_components(G), key=len)"
   ]
  },
  {
   "cell_type": "markdown",
   "metadata": {},
   "source": [
    "While it's often enough to just have the list of node names, sometimes we need the actual subgraph consisting of the largest connected component. One way to get this is to pass the list of node names to the `G.subgraph()` function:"
   ]
  },
  {
   "cell_type": "code",
   "execution_count": 50,
   "metadata": {},
   "outputs": [
    {
     "data": {
      "image/png": "[encoded data removed]",
      "text/plain": [
       "<Figure size 432x288 with 1 Axes>"
      ]
     },
     "metadata": {},
     "output_type": "display_data"
    }
   ],
   "source": [
    "core_nodes = max(nx.connected_components(G), key=len)\n",
    "core = G.subgraph(core_nodes)\n",
    "\n",
    "nx.draw(core, with_labels=True)"
   ]
  },
  {
   "cell_type": "markdown",
   "metadata": {},
   "source": [
    "Those of you using tab-completion will also notice a `nx.connected_component_subgraphs()` function. This can also be used to get the core subgraph but the method shown is more efficient when you only care about the largest connected component."
   ]
  },
  {
   "cell_type": "markdown",
   "metadata": {},
   "source": [
    "# 3. Directed paths\n",
    "\n",
    "Let's extend these ideas to directed graphs."
   ]
  },
  {
   "cell_type": "code",
   "execution_count": 17,
   "metadata": {
    "collapsed": true,
    "jupyter": {
     "outputs_hidden": true
    }
   },
   "outputs": [
    {
     "data": {
      "image/png": "[encoded data removed]",
      "text/plain": [
       "<Figure size 432x288 with 1 Axes>"
      ]
     },
     "metadata": {},
     "output_type": "display_data"
    }
   ],
   "source": [
    "D = nx.DiGraph()\n",
    "D.add_edges_from([\n",
    "    (1,2),\n",
    "    (2,3),\n",
    "    (3,2), (3,4), (3,5),\n",
    "    (4,2), (4,5), (4,6),\n",
    "    (5,6),\n",
    "    (6,4),\n",
    "])\n",
    "nx.draw(D, with_labels=True)"
   ]
  },
  {
   "cell_type": "markdown",
   "metadata": {},
   "source": [
    "We know that in a directed graph, an edge from an arbitrary node $u$ to an arbitrary node $v$ does not imply that an edge exists from $v$ to $u$. Since paths must follow edge direction in directed graphs, the same asymmetry applies for paths. Observe that this graph has a path from 1 to 4, but not in the reverse direction."
   ]
  },
  {
   "cell_type": "code",
   "execution_count": 18,
   "metadata": {
    "collapsed": true,
    "jupyter": {
     "outputs_hidden": true
    }
   },
   "outputs": [
    {
     "data": {
      "text/plain": [
       "True"
      ]
     },
     "execution_count": 18,
     "metadata": {},
     "output_type": "execute_result"
    }
   ],
   "source": [
    "nx.has_path(D, 1, 4)"
   ]
  },
  {
   "cell_type": "code",
   "execution_count": 19,
   "metadata": {
    "collapsed": true,
    "jupyter": {
     "outputs_hidden": true
    }
   },
   "outputs": [
    {
     "data": {
      "text/plain": [
       "False"
      ]
     },
     "execution_count": 19,
     "metadata": {},
     "output_type": "execute_result"
    }
   ],
   "source": [
    "nx.has_path(D, 4, 1)"
   ]
  },
  {
   "cell_type": "markdown",
   "metadata": {},
   "source": [
    "The other NetworkX functions dealing with paths take this asymmetry into account as well:"
   ]
  },
  {
   "cell_type": "code",
   "execution_count": 20,
   "metadata": {
    "collapsed": true,
    "jupyter": {
     "outputs_hidden": true
    }
   },
   "outputs": [
    {
     "data": {
      "text/plain": [
       "[2, 3, 5]"
      ]
     },
     "execution_count": 20,
     "metadata": {},
     "output_type": "execute_result"
    }
   ],
   "source": [
    "nx.shortest_path(D, 2, 5)"
   ]
  },
  {
   "cell_type": "code",
   "execution_count": 21,
   "metadata": {
    "collapsed": true,
    "jupyter": {
     "outputs_hidden": true
    }
   },
   "outputs": [
    {
     "data": {
      "text/plain": [
       "[5, 6, 4, 2]"
      ]
     },
     "execution_count": 21,
     "metadata": {},
     "output_type": "execute_result"
    }
   ],
   "source": [
    "nx.shortest_path(D, 5, 2)"
   ]
  },
  {
   "cell_type": "markdown",
   "metadata": {},
   "source": [
    "Since there is no edge from 5 to 3, the shortest path from 5 to 2 cannot simply backtrack the shortest path from 2 to 5 -- it has to go a longer route through nodes 6 and 4."
   ]
  },
  {
   "cell_type": "markdown",
   "metadata": {},
   "source": [
    "# 4. Finding hubs\n",
    "\n",
    "Often when looking at a network, we want to find the most \"important\" nodes, for some definition of important. The most basic measure of centrality is the *degree*, or number of links attached to a node.\n",
    "\n",
    "We will use data about characters in the novel 'A Song of Ice and Fire' (ASOIAF). You can obtain the dataset from the [GitHub repository](https://github.com/mathbeveridge/asoiaf) maintained by Mathew A. Beveridge. The dataset is available in CSV format."
   ]
  },
  {
   "cell_type": "code",
   "execution_count": 22,
   "metadata": {
    "scrolled": true
   },
   "outputs": [],
   "source": [
    "#!pip install --upgrade scipy networkx"
   ]
  },
  {
   "cell_type": "code",
   "execution_count": 52,
   "metadata": {},
   "outputs": [],
   "source": [
    "import pandas as pd\n",
    "asoiaf_data = 'https://raw.githubusercontent.com/mathbeveridge/asoiaf/master/data/asoiaf-all-edges.csv'\n",
    "df = pd.read_csv(asoiaf_data)"
   ]
  },
  {
   "cell_type": "code",
   "execution_count": 53,
   "metadata": {
    "id": "1VZMNcQRma-J",
    "outputId": "08cd0b24-d62f-42d4-f8f6-1108eb6aa47c"
   },
   "outputs": [
    {
     "name": "stdout",
     "output_type": "stream",
     "text": [
      "Number of nodes 796\n",
      "Number of edges 2823\n",
      "Average degree 7.092964824120603\n"
     ]
    },
    {
     "data": {
      "image/png": "[encoded data removed]",
      "text/plain": [
       "<Figure size 432x288 with 1 Axes>"
      ]
     },
     "metadata": {},
     "output_type": "display_data"
    }
   ],
   "source": [
    "# Create a graph\n",
    "G = nx.from_pandas_edgelist(df, 'Source', 'Target')\n",
    "print('Number of nodes', len(G.nodes))\n",
    "print('Number of edges', len(G.edges))\n",
    "print('Average degree', sum(dict(G.degree).values()) / len(G.nodes))\n",
    "nx.draw(G)"
   ]
  },
  {
   "cell_type": "markdown",
   "metadata": {},
   "source": [
    "#### What do the edges mean?\n",
    "\n",
    "Two characters have an edge whenever their names (or nicknames) appeared within 15 words of one another in one of the books in \"A Song of Ice and Fire.\" The edge weight corresponds to the number of interactions. **We do not consider the edge weights for the tutorial or the direction.**"
   ]
  },
  {
   "cell_type": "code",
   "execution_count": 24,
   "metadata": {},
   "outputs": [
    {
     "data": {
      "text/plain": [
       "[('Addam-Marbrand', 'Brynden-Tully'),\n",
       " ('Addam-Marbrand', 'Cersei-Lannister'),\n",
       " ('Addam-Marbrand', 'Gyles-Rosby'),\n",
       " ('Addam-Marbrand', 'Jaime-Lannister'),\n",
       " ('Addam-Marbrand', 'Jalabhar-Xho')]"
      ]
     },
     "execution_count": 24,
     "metadata": {},
     "output_type": "execute_result"
    }
   ],
   "source": [
    "list(G.edges)[0:5]"
   ]
  },
  {
   "cell_type": "markdown",
   "metadata": {
    "id": "YZiPzbyqma-K"
   },
   "source": [
    "### Caveat: by default, `nx.read_edgelist` assumes node names are strings\n",
    "\n",
    "Edge lists are a simple, plain text format for storing graphs. Since this simple file format doesn't contain information about data types, all node names are assumed to be strings by default. When the node names are given by integers, as they are in this example, we should specify the `nodetype=int` keyword argument to avoid confusion with the node names."
   ]
  },
  {
   "cell_type": "markdown",
   "metadata": {
    "id": "F-CYIu9Uma-M"
   },
   "source": [
    "### Finding the node with max degree\n",
    "\n",
    "We can apply the `max` function to get the maximum node according to some criterion. In our case, we want to compare the nodes by their degree:"
   ]
  },
  {
   "cell_type": "code",
   "execution_count": 25,
   "metadata": {
    "collapsed": true,
    "id": "u8qFC_vOma-M",
    "jupyter": {
     "outputs_hidden": true
    },
    "outputId": "2b91686b-c909-475e-aa5a-967e0ca985d1"
   },
   "outputs": [
    {
     "data": {
      "text/plain": [
       "'Tyrion-Lannister'"
      ]
     },
     "execution_count": 25,
     "metadata": {},
     "output_type": "execute_result"
    }
   ],
   "source": [
    "highest_degree_node = max(G.nodes, key=G.degree)\n",
    "highest_degree_node"
   ]
  },
  {
   "cell_type": "code",
   "execution_count": 26,
   "metadata": {
    "collapsed": true,
    "id": "dgWTbg0Hma-M",
    "jupyter": {
     "outputs_hidden": true
    },
    "outputId": "6d71905a-07ae-4eee-d12f-68c0f287630e"
   },
   "outputs": [
    {
     "data": {
      "text/plain": [
       "122"
      ]
     },
     "execution_count": 26,
     "metadata": {},
     "output_type": "execute_result"
    }
   ],
   "source": [
    "G.degree(highest_degree_node)"
   ]
  },
  {
   "cell_type": "markdown",
   "metadata": {
    "id": "tI3y7A7Jma-M"
   },
   "source": [
    "So we know that Tyrion has 122 edges. Let's look at that calculation a little closer:\n",
    "\n",
    "```python\n",
    "max(G.nodes, key=G.degree)\n",
    "```\n",
    "\n",
    "We're telling the `max` function that we want the item from `G.nodes` that gives us the highest value when passed to the *key* function `G.degree`.\n",
    "\n",
    "This construction works because `G.degree` is a function. Some other measures of centrality such as betweenness generate all of the nodes' centrality values at once and return a `dict`. In this case, we need an extra step:"
   ]
  },
  {
   "cell_type": "markdown",
   "metadata": {},
   "source": [
    "Another concept of node importance is 'betweenness' centrality. It involves calculating how often a node lies on the shortest path between other pairs of nodes. Nodes with high betweenness centrality are good 'brokers'."
   ]
  },
  {
   "cell_type": "code",
   "execution_count": 27,
   "metadata": {
    "collapsed": true,
    "id": "TSTYxt5Zma-N",
    "jupyter": {
     "outputs_hidden": true
    },
    "outputId": "1ea48f60-23b6-4e46-c736-a411c1a9ef7a"
   },
   "outputs": [
    {
     "data": {
      "text/plain": [
       "'Jon-Snow'"
      ]
     },
     "execution_count": 27,
     "metadata": {},
     "output_type": "execute_result"
    }
   ],
   "source": [
    "betweenness = nx.centrality.betweenness_centrality(G)\n",
    "highest_betweenness_node = max(G.nodes, key=betweenness.get)\n",
    "highest_betweenness_node"
   ]
  },
  {
   "cell_type": "code",
   "execution_count": 28,
   "metadata": {
    "collapsed": true,
    "id": "Sgoj0hCnma-N",
    "jupyter": {
     "outputs_hidden": true
    },
    "outputId": "18d23d64-edbf-4bbe-a4fe-0a7aa2945e7a"
   },
   "outputs": [
    {
     "data": {
      "text/plain": [
       "0.1921196196835449"
      ]
     },
     "execution_count": 28,
     "metadata": {},
     "output_type": "execute_result"
    }
   ],
   "source": [
    "betweenness[highest_betweenness_node]"
   ]
  },
  {
   "cell_type": "markdown",
   "metadata": {
    "id": "24Bml49Oma-O"
   },
   "source": [
    "# 5. Centrality distributions\n",
    "\n",
    "We've found the most central node in the network, but often we want to summarize information about the centrality of all nodes. For example, in addition to the maxmimum degree, we often want the mean and median degree in a network.\n",
    "\n",
    "The first step in summarizing this information is to get a sequence of all of the centrality values in the graph. We don't care about the node names anymore, we just want a sequence of numbers. We can start with the example of degree:"
   ]
  },
  {
   "cell_type": "code",
   "execution_count": 29,
   "metadata": {
    "collapsed": true,
    "id": "b1vJ7DMBma-O",
    "jupyter": {
     "outputs_hidden": true
    }
   },
   "outputs": [],
   "source": [
    "degree_sequence = [G.degree(n) for n in G.nodes]"
   ]
  },
  {
   "cell_type": "markdown",
   "metadata": {
    "id": "PBQkgtu6ma-O"
   },
   "source": [
    "To get the mean and median of this sequence, we can use Python's built-in `statistics` module:"
   ]
  },
  {
   "cell_type": "code",
   "execution_count": 30,
   "metadata": {
    "collapsed": true,
    "id": "WCxsSnIvma-O",
    "jupyter": {
     "outputs_hidden": true
    },
    "outputId": "f346d60f-a9c1-4527-a3bb-1a1356842d0e"
   },
   "outputs": [
    {
     "name": "stdout",
     "output_type": "stream",
     "text": [
      "Mean degree: 7.092964824120603\n",
      "Median degree: 3.0\n"
     ]
    }
   ],
   "source": [
    "import statistics\n",
    "\n",
    "print('Mean degree:', statistics.mean(degree_sequence))\n",
    "print('Median degree:', statistics.median(degree_sequence))"
   ]
  },
  {
   "cell_type": "markdown",
   "metadata": {
    "id": "sZRmdbLSma-P"
   },
   "source": [
    "For other measures of centrality, which are calculated for the whole network at once and return a dict, we can use the dict's `.values()`."
   ]
  },
  {
   "cell_type": "code",
   "execution_count": 31,
   "metadata": {
    "collapsed": true,
    "id": "mZmSk4d9ma-P",
    "jupyter": {
     "outputs_hidden": true
    },
    "outputId": "e95dd8a0-f8bd-4269-a451-4bcdaf89cd85"
   },
   "outputs": [
    {
     "name": "stdout",
     "output_type": "stream",
     "text": [
      "Mean betweenness: 0.003043105520154994\n",
      "Median betweenness: 4.058934480492391e-06\n"
     ]
    }
   ],
   "source": [
    "betweenness = nx.centrality.betweenness_centrality(G)\n",
    "betweenness_sequence = list(betweenness.values())\n",
    "\n",
    "print('Mean betweenness:', statistics.mean(betweenness_sequence))\n",
    "print('Median betweenness:', statistics.median(betweenness_sequence))"
   ]
  },
  {
   "cell_type": "markdown",
   "metadata": {
    "id": "JjKU9vpema-P"
   },
   "source": [
    "### Plotting the distribution\n",
    "\n",
    "We can graphically represent the sequence of centrality values by using a *histogram*. In its basic form, a histogram plots the degree values on the x-axis, and the number of nodes having that degree on the y-axis. To do this counting, we can make use of Python's `collections.Counter`."
   ]
  },
  {
   "cell_type": "code",
   "execution_count": 32,
   "metadata": {
    "collapsed": true,
    "id": "mWd1P2aama-P",
    "jupyter": {
     "outputs_hidden": true
    },
    "outputId": "90871214-1ba7-4ab3-9f3a-30b1de689ea9"
   },
   "outputs": [
    {
     "data": {
      "text/plain": [
       "Counter({12: 10,\n",
       "         19: 6,\n",
       "         97: 1,\n",
       "         18: 7,\n",
       "         101: 1,\n",
       "         5: 56,\n",
       "         69: 1,\n",
       "         17: 4,\n",
       "         20: 6,\n",
       "         122: 1,\n",
       "         48: 1,\n",
       "         34: 1,\n",
       "         4: 69,\n",
       "         75: 2,\n",
       "         74: 2,\n",
       "         9: 27,\n",
       "         73: 1,\n",
       "         3: 86,\n",
       "         8: 24,\n",
       "         2: 146,\n",
       "         89: 1,\n",
       "         15: 8,\n",
       "         11: 13,\n",
       "         16: 3,\n",
       "         7: 25,\n",
       "         1: 187,\n",
       "         14: 7,\n",
       "         6: 39,\n",
       "         26: 2,\n",
       "         10: 9,\n",
       "         23: 4,\n",
       "         28: 3,\n",
       "         114: 1,\n",
       "         33: 4,\n",
       "         65: 1,\n",
       "         44: 1,\n",
       "         84: 1,\n",
       "         66: 1,\n",
       "         25: 2,\n",
       "         13: 12,\n",
       "         24: 3,\n",
       "         41: 1,\n",
       "         45: 1,\n",
       "         21: 4,\n",
       "         54: 1,\n",
       "         30: 2,\n",
       "         38: 1,\n",
       "         22: 4,\n",
       "         36: 1,\n",
       "         47: 1,\n",
       "         27: 1})"
      ]
     },
     "execution_count": 32,
     "metadata": {},
     "output_type": "execute_result"
    }
   ],
   "source": [
    "from collections import Counter\n",
    "\n",
    "degree_counts = Counter(degree_sequence)\n",
    "degree_counts"
   ]
  },
  {
   "cell_type": "markdown",
   "metadata": {
    "id": "XXS8abupma-P"
   },
   "source": [
    "The `Counter` object returned is like a dict, pairing the item counted with the number of times it showed up in the sequence.\n",
    "\n",
    "On this basic histogram plot, we want an x-value for every integer between the minimum and maximum degree in the sequence, inclusive. Note that `degree_counts.keys()` gives us every distinct value seen in the degree sequence. Also note that we need the +1 in the `range` below because we want to include the right endpoint."
   ]
  },
  {
   "cell_type": "code",
   "execution_count": 33,
   "metadata": {
    "collapsed": true,
    "id": "WPR3Kkurma-Q",
    "jupyter": {
     "outputs_hidden": true
    }
   },
   "outputs": [],
   "source": [
    "min_degree, max_degree = min(degree_counts.keys()), max(degree_counts.keys())\n",
    "\n",
    "plot_x = list(range(min_degree, max_degree + 1))"
   ]
  },
  {
   "cell_type": "markdown",
   "metadata": {
    "id": "s_Hqo9w6ma-Q"
   },
   "source": [
    "Our y-values are then the number of times we counted each x-value in the degree sequence. We can make use of the `.get` method with a default value in order to count 0 for degree values that don't show up in the sequence. For example, notice that 32 does not show up in `degree_counts` above, so `degree_counts.get(32, 0)` will give us 0."
   ]
  },
  {
   "cell_type": "code",
   "execution_count": 34,
   "metadata": {
    "collapsed": true,
    "id": "N5P5lgAQma-Q",
    "jupyter": {
     "outputs_hidden": true
    }
   },
   "outputs": [],
   "source": [
    "plot_y = [degree_counts.get(x, 0) for x in plot_x]"
   ]
  },
  {
   "cell_type": "markdown",
   "metadata": {
    "id": "F6QkMzypma-Q"
   },
   "source": [
    "To do the plotting, we use Matplotlib's `pyplot` module."
   ]
  },
  {
   "cell_type": "code",
   "execution_count": 35,
   "metadata": {
    "collapsed": true,
    "id": "sQ2ZUurPma-Q",
    "jupyter": {
     "outputs_hidden": true
    },
    "outputId": "014e9315-3102-4b9b-8fef-3f37e2e02a29"
   },
   "outputs": [
    {
     "data": {
      "text/plain": [
       "<BarContainer object of 122 artists>"
      ]
     },
     "execution_count": 35,
     "metadata": {},
     "output_type": "execute_result"
    },
    {
     "data": {
      "image/png": "[encoded data removed]",
      "text/plain": [
       "<Figure size 432x288 with 1 Axes>"
      ]
     },
     "metadata": {
      "needs_background": "light"
     },
     "output_type": "display_data"
    }
   ],
   "source": [
    "import matplotlib.pyplot as plt\n",
    "\n",
    "plt.bar(plot_x, plot_y)"
   ]
  },
  {
   "cell_type": "markdown",
   "metadata": {},
   "source": [
    "This is a typical power law distribution with very few people having centrality, while most have little."
   ]
  },
  {
   "cell_type": "markdown",
   "metadata": {},
   "source": [
    "### Highlight the most central nodes"
   ]
  },
  {
   "cell_type": "code",
   "execution_count": 36,
   "metadata": {
    "collapsed": true,
    "jupyter": {
     "outputs_hidden": true
    }
   },
   "outputs": [
    {
     "data": {
      "text/plain": [
       "{'Addam-Marbrand': 0.00046968169281068643,\n",
       " 'Brynden-Tully': 0.0022270360075842487,\n",
       " 'Cersei-Lannister': 0.08870426655860289,\n",
       " 'Gyles-Rosby': 0.00041544063958593114,\n",
       " 'Jaime-Lannister': 0.10083800602581632,\n",
       " 'Jalabhar-Xho': 0.000806839904414349,\n",
       " 'Joffrey-Baratheon': 0.03175872220136575,\n",
       " 'Kevan-Lannister': 0.0018933081396063087,\n",
       " 'Lyle-Crakehall': 9.037647220243105e-06,\n",
       " 'Oberyn-Martell': 0.009803338344122527,\n",
       " 'Tyrion-Lannister': 0.1621910961115984,\n",
       " 'Tywin-Lannister': 0.020669858406317167,\n",
       " 'Varys': 0.009201379313719161,\n",
       " 'Aegon-Frey-(son-of-Stevron)': 0.0,\n",
       " 'Catelyn-Stark': 0.054973667953404186,\n",
       " 'Robb-Stark': 0.06646842683586629,\n",
       " 'Stevron-Frey': 2.6403476809826316e-06,\n",
       " 'Walder-Frey': 0.006634157224487359,\n",
       " 'Aegon-I-Targaryen': 0.006891001543130115,\n",
       " 'Daenerys-Targaryen': 0.11841801916269204,\n",
       " 'Eddard-Stark': 0.07873239257251873,\n",
       " 'Harren-Hoare': 7.666810865224729e-05,\n",
       " 'Nan': 0.0007144613988157187,\n",
       " 'Rhaenys-Targaryen': 0.0,\n",
       " 'Stannis-Baratheon': 0.11013955266679566,\n",
       " 'Torrhen-Stark': 0.0,\n",
       " 'Visenya-Targaryen': 0.0,\n",
       " 'Aegon-Targaryen-(son-of-Rhaegar)': 0.006012166955503284,\n",
       " 'Elia-Martell': 0.00270003643684453,\n",
       " 'Franklyn-Flowers': 0.0025157232704402514,\n",
       " 'Haldon': 0.0002853377597880033,\n",
       " 'Harry-Strickland': 5.341046166102009e-06,\n",
       " 'Jon-Connington': 0.012689826639969027,\n",
       " 'Lemore': 2.0368396396151734e-06,\n",
       " 'Rhaegar-Targaryen': 0.007841725343075763,\n",
       " 'Rhaenys-Targaryen-(daughter-of-Rhaegar)': 0.0,\n",
       " 'Rolly-Duckfield': 1.3478926553400198e-05,\n",
       " 'Viserys-Targaryen': 0.0024572494574977267,\n",
       " 'Yandry': 2.0368396396151734e-06,\n",
       " 'Ysilla': 0.0,\n",
       " 'Aegon-V-Targaryen': 0.0,\n",
       " 'Aemon-Targaryen-(Maester-Aemon)': 0.019000091324598928,\n",
       " 'Aemon-Targaryen-(Dragonknight)': 0.0,\n",
       " 'Alleras': 0.014199146845567846,\n",
       " 'Alliser-Thorne': 0.0022178580335597766,\n",
       " 'Bowen-Marsh': 0.0010658294425999037,\n",
       " 'Chett': 9.588494251054927e-05,\n",
       " 'Clydas': 0.00022216020347470705,\n",
       " 'Cotter-Pyke': 0.0002595241686577346,\n",
       " 'Daeron-II-Targaryen': 0.0012467625016664252,\n",
       " 'Dareon': 0.0030758718772775787,\n",
       " 'Denys-Mallister': 1.2551589353375785e-05,\n",
       " 'Donal-Noye': 0.00024041363748335693,\n",
       " 'Eddison-Tollett': 0.0031269488836337274,\n",
       " 'Gilly': 0.0011253101845081362,\n",
       " 'Grenn': 0.00047468108382777097,\n",
       " 'Hobb': 8.698513886562544e-05,\n",
       " 'Janos-Slynt': 0.007182701709281779,\n",
       " 'Jeor-Mormont': 0.01726824412132349,\n",
       " 'Jon-Snow': 0.1921196196835449,\n",
       " 'Maekar-I-Targaryen': 0.0,\n",
       " 'Mance-Rayder': 0.013605084225351201,\n",
       " 'Owen': 0.0008046155894531405,\n",
       " 'Pypar': 0.00023444666261274497,\n",
       " 'Robert-Baratheon': 0.07822769060383258,\n",
       " 'Samwell-Tarly': 0.041466203660771125,\n",
       " 'Wynton-Stout': 0.0,\n",
       " 'Aenys-Frey': 0.000811866779429399,\n",
       " 'Arya-Stark': 0.08724236063571153,\n",
       " 'Hosteen-Frey': 0.0009686358251757084,\n",
       " 'Theon-Greyjoy': 0.11128331813470228,\n",
       " 'Wyman-Manderly': 0.009242796685700862,\n",
       " 'Aeron-Greyjoy': 0.01293504737683696,\n",
       " 'Asha-Greyjoy': 0.03302475436760232,\n",
       " 'Baelor-Blacktyde': 0.0,\n",
       " 'Balon-Greyjoy': 0.009545731721719745,\n",
       " 'Dagmer': 0.00014397106430285594,\n",
       " 'Dunstan-Drumm': 7.341538162316642e-06,\n",
       " 'Emmond': 0.0,\n",
       " 'Euron-Greyjoy': 0.008004883301338556,\n",
       " 'Gormond-Goodbrother': 0.0,\n",
       " 'Gorold-Goodbrother': 0.0,\n",
       " 'Greydon-Goodbrother': 0.0,\n",
       " 'Meldred-Merlyn': 0.0,\n",
       " 'Murenmure': 0.0,\n",
       " 'Rus': 0.0,\n",
       " 'Victarion-Greyjoy': 0.03645073716796517,\n",
       " 'Aerys-I-Targaryen': 0.0,\n",
       " 'Aerys-II-Targaryen': 0.014068789311281946,\n",
       " 'Arthur-Dayne': 0.005297158568434577,\n",
       " 'Barristan-Selmy': 0.045549578315223826,\n",
       " 'Brandon-Stark': 0.0004620251215018329,\n",
       " 'Brienne-of-Tarth': 0.032251918885194235,\n",
       " 'Denys-Darklyn': 0.0,\n",
       " 'Elbert-Arryn': 0.0,\n",
       " 'Gerold-Hightower': 0.00839574696770193,\n",
       " 'Jon-Arryn': 0.008811733114888828,\n",
       " 'Owen-Merryweather': 0.0,\n",
       " 'Rossart': 0.0,\n",
       " 'Aggar': 0.007996770700326627,\n",
       " 'Gariss': 0.0025157232704402514,\n",
       " 'Gelmarr': 0.0,\n",
       " 'Gynir': 8.059849892462411e-05,\n",
       " 'Ramsay-Snow': 0.016712732397226274,\n",
       " 'Aggo': 0.00010043314677039318,\n",
       " 'Belwas': 0.0002810122824710032,\n",
       " 'Daario-Naharis': 0.005468229089539228,\n",
       " 'Drogo': 0.012390512850945069,\n",
       " 'Grey-Worm': 3.260442671574269e-05,\n",
       " 'Jhogo': 0.00016539727955456717,\n",
       " 'Jorah-Mormont': 0.010826777775038732,\n",
       " 'Quaro': 1.4257877477306213e-06,\n",
       " 'Rakharo': 3.223080736986795e-05,\n",
       " 'Alayaya': 0.0025157232704402514,\n",
       " 'Bronn': 0.00290004961692174,\n",
       " 'Dancy': 0.0,\n",
       " 'Albett': 0.0,\n",
       " 'Halder': 4.4127535083567704e-05,\n",
       " 'Rast': 2.3279694041539967e-05,\n",
       " 'Alebelly': 7.128938738653106e-06,\n",
       " 'Bran-Stark': 0.04491117872765179,\n",
       " 'Hayhead': 0.0,\n",
       " 'Jojen-Reed': 0.00027159899402713373,\n",
       " 'Mikken': 0.0002360519803977042,\n",
       " 'Alerie-Hightower': 0.0,\n",
       " 'Mace-Tyrell': 0.005881331863807489,\n",
       " 'Margaery-Tyrell': 0.004545928122744572,\n",
       " 'Alester-Florent': 0.00036283276404728697,\n",
       " 'Axell-Florent': 0.0017033507365717278,\n",
       " 'Cortnay-Penrose': 0.0006603396134617365,\n",
       " 'Davos-Seaworth': 0.023846811266965424,\n",
       " 'Lamprey': 1.0561390723930527e-06,\n",
       " 'Renly-Baratheon': 0.018923483670097264,\n",
       " 'Selyse-Florent': 0.005670666773047648,\n",
       " 'Alla-Tyrell': 1.1757705054466043e-05,\n",
       " 'Elinor-Tyrell': 3.155668666556921e-05,\n",
       " 'Megga-Tyrell': 0.0,\n",
       " 'Osney-Kettleblack': 0.0004884390013043415,\n",
       " 'Sansa-Stark': 0.04869098175180615,\n",
       " 'Allar-Deem': 0.0,\n",
       " 'Allard-Seaworth': 1.6664365792258952e-05,\n",
       " 'Marya-Seaworth': 0.0,\n",
       " 'Armen': 1.6898225158288847e-05,\n",
       " 'Leo-Tyrell': 0.005207006800107946,\n",
       " 'Marwyn': 0.0005619247690930393,\n",
       " 'Mollander': 3.960521521473948e-06,\n",
       " 'Pate-(novice)': 0.010041506265545046,\n",
       " 'Roone': 7.921043042947895e-07,\n",
       " 'Qhorin-Halfhand': 0.002814466228209573,\n",
       " 'Alyn': 2.3037671549563076e-05,\n",
       " 'Harwin': 0.0003581147496719146,\n",
       " 'Jory-Cassel': 0.004878100313441611,\n",
       " 'Tomard': 0.00014629093134763786,\n",
       " 'Alys-Arryn': 0.0025157232704402514,\n",
       " 'Elys-Waynwood': 0.0,\n",
       " 'Alys-Karstark': 0.0,\n",
       " 'Melisandre': 0.006490367679765863,\n",
       " 'Sigorn': 5.4249925840373485e-05,\n",
       " 'Alysane-Mormont': 0.0,\n",
       " 'Justin-Massey': 4.803169624233262e-05,\n",
       " 'Amabel': 0.0,\n",
       " 'Harra': 0.0,\n",
       " 'Amerei-Frey': 2.2986556281495857e-06,\n",
       " 'Lancel-Lannister': 0.0005202424922720469,\n",
       " 'Amory-Lorch': 0.0011814538186914606,\n",
       " 'Chiswyck': 4.2772561664336016e-05,\n",
       " 'Dunsen': 4.2772561664336016e-05,\n",
       " 'Gendry': 0.012466571947344253,\n",
       " 'Gregor-Clegane': 0.005485884423111079,\n",
       " 'Hot-Pie': 0.003040201543802678,\n",
       " 'Ilyn-Payne': 0.0008953002190407184,\n",
       " 'Meryn-Trant': 0.0009405799016613221,\n",
       " 'Polliver': 8.957585958850583e-05,\n",
       " 'Rafford': 4.650932615316138e-05,\n",
       " 'Roose-Bolton': 0.005556184499708196,\n",
       " 'Sandor-Clegane': 0.008828140862297522,\n",
       " 'Tickler': 0.0,\n",
       " 'Vargo-Hoat': 0.000684033894703028,\n",
       " 'Yoren': 0.0048485304796671925,\n",
       " 'Anders-Yronwood': 1.6618627083792942e-05,\n",
       " 'Quentyn-Martell': 0.011349668168284723,\n",
       " 'Andrew-Estermont': 0.0025157232704402514,\n",
       " 'Edric-Storm': 0.0016107843912978783,\n",
       " 'Gerald-Gower': 0.0,\n",
       " 'Andrey-Dalt': 4.1033180617506017e-05,\n",
       " 'Arianne-Martell': 0.017878370880233956,\n",
       " 'Garin-(orphan)': 0.0007984165298626009,\n",
       " 'Myrcella-Baratheon': 0.020192886619454075,\n",
       " 'Sylva-Santagar': 4.1033180617506017e-05,\n",
       " 'Tyene-Sand': 0.0026765296655539648,\n",
       " 'Anguy': 0.0012625055964869964,\n",
       " 'Beric-Dondarrion': 0.0021397778353426378,\n",
       " 'Greenbeard': 5.72389657984449e-06,\n",
       " 'Husband': 0.0,\n",
       " 'Lem': 0.005932662633621725,\n",
       " 'Sharna': 1.584208608589579e-06,\n",
       " 'Tom-of-Sevenstreams': 0.00042868827361147927,\n",
       " 'Anya-Waynwood': 0.0005839441096849417,\n",
       " 'Benedar-Belmore': 0.0004401675991864428,\n",
       " 'Gilwood-Hunter': 0.0002754037304790446,\n",
       " 'Harrold-Hardyng': 8.45011842588003e-06,\n",
       " 'Horton-Redfort': 1.848243376687842e-06,\n",
       " 'Petyr-Baelish': 0.02589858342955331,\n",
       " 'Symond-Templeton': 3.779263347992336e-05,\n",
       " 'Yohn-Royce': 0.0019761740442382964,\n",
       " 'Archibald-Yronwood': 2.3763129128843687e-06,\n",
       " 'Cletus-Yronwood': 0.0007870118326282036,\n",
       " 'Gerris-Drinkwater': 0.00265698020756413,\n",
       " 'Tattered-Prince': 0.005877204286125132,\n",
       " 'Ardrian-Celtigar': 0.0,\n",
       " 'Monford-Velaryon': 0.0025157232704402514,\n",
       " 'Areo-Hotah': 0.00013039148881031603,\n",
       " 'Arys-Oakheart': 0.0017711832474196626,\n",
       " 'Balon-Swann': 0.0035990046684794635,\n",
       " 'Caleotte': 7.299694615597104e-05,\n",
       " 'Doran-Martell': 0.014536796446447914,\n",
       " 'Ellaria-Sand': 0.0009887935253495574,\n",
       " 'Obara-Sand': 2.490636538447955e-05,\n",
       " 'Cedra': 0.0,\n",
       " 'Franklyn-Fowler': 0.0,\n",
       " 'Gerold-Dayne': 9.134495249940671e-06,\n",
       " 'Mellei': 0.0,\n",
       " 'Morra': 0.0,\n",
       " 'Ricasso': 0.002515723270440252,\n",
       " 'Timoth': 0.0,\n",
       " 'Arnolf-Karstark': 0.002619954342941903,\n",
       " 'Arthor-Karstark': 0.0,\n",
       " 'Mors-Umber': 0.00023824845737671982,\n",
       " 'Rickard-Karstark': 0.000916443174577409,\n",
       " 'Aron-Santagar': 0.0,\n",
       " 'Arron': 0.0,\n",
       " 'Emrick': 0.0,\n",
       " 'Hareth-(Moles-Town)': 0.0022034372154386105,\n",
       " 'Satin': 0.002941030056505105,\n",
       " 'Arson': 0.0,\n",
       " 'Arstan': 0.00012393480825075023,\n",
       " 'Illyrio-Mopatis': 0.0012025118566061778,\n",
       " 'Jhiqui': 7.182201689636635e-05,\n",
       " 'Kraznys-mo-Nakloz': 0.0,\n",
       " 'Mero': 0.0025157232704402523,\n",
       " 'Lewyn-Martell': 0.0013184260505060194,\n",
       " 'Smiling-Knight': 0.0025157232704402514,\n",
       " 'Arwyn-Oakheart': 0.0,\n",
       " 'Randyll-Tarly': 0.004472798283728437,\n",
       " 'Bellegere-Otherys': 0.0,\n",
       " 'Benjen-Stark': 0.0056754876301843785,\n",
       " 'Biter': 9.441361532432785e-05,\n",
       " 'Brea': 1.584208608589579e-06,\n",
       " 'Brusco': 0.0,\n",
       " 'Denyo-Terys': 0.0,\n",
       " 'Desmond': 0.0,\n",
       " 'Dobber': 0.0,\n",
       " 'Elmar-Frey': 0.0001054040624030772,\n",
       " 'Jaqen-Hghar': 2.8127681875127343e-05,\n",
       " 'Jeyne-Poole': 0.001726904563350753,\n",
       " 'Kindly-Man': 0.0,\n",
       " 'Koss': 0.0,\n",
       " 'Lommy-Greenhands': 1.1147673439422957e-05,\n",
       " 'Mad-Huntsman': 0.0,\n",
       " 'Meralyn': 0.0,\n",
       " 'Mordane': 0.00047705233952695684,\n",
       " 'Mycah': 0.0,\n",
       " 'Pate-(Old)': 0.0,\n",
       " 'Praed': 0.0,\n",
       " 'Ravella-Swann': 0.0,\n",
       " 'Rickon-Stark': 0.0019810324511872223,\n",
       " 'Rodrik-Cassel': 0.011062042983138924,\n",
       " 'Rorge': 0.00041786621261375253,\n",
       " 'Syrio-Forel': 9.940477703282589e-06,\n",
       " 'Talea': 0.0,\n",
       " 'Ternesio-Terys': 0.0,\n",
       " 'Thoros-of-Myr': 0.0005027065652230949,\n",
       " 'Tommen-Baratheon': 0.006251297190511883,\n",
       " 'Umma': 0.0,\n",
       " 'Vayon-Poole': 0.0,\n",
       " 'Waif': 0.0,\n",
       " 'Weasel': 5.386309269204569e-06,\n",
       " 'Weese': 0.00010746858273624383,\n",
       " 'Woth': 0.0,\n",
       " 'Yorko-Terys': 0.0,\n",
       " 'Clayton-Suggs': 0.0,\n",
       " 'Galbart-Glover': 0.0009463070916218532,\n",
       " 'Godry-Farring': 0.0010104752243697882,\n",
       " 'Grimtongue': 0.0012712350293113668,\n",
       " 'Hagen': 0.001299750784265979,\n",
       " 'Qarl-the-Maid': 0.0,\n",
       " 'Red-Oarsman': 0.0050251097064461445,\n",
       " 'Rodrik-Harlaw': 0.002132000978290959,\n",
       " 'Rolfe-the-Dwarf': 0.0,\n",
       " 'Sybelle-Glover': 1.812601991700944e-05,\n",
       " 'Torgon-Greyiron': 0.0,\n",
       " 'Tristifer-Botley': 0.0,\n",
       " 'Tycho-Nestoris': 0.000534001268949556,\n",
       " 'Wex-Pyke': 0.002152951072963893,\n",
       " 'Ashara-Dayne': 0.0,\n",
       " 'Aurane-Waters': 7.820039494637334e-05,\n",
       " 'Harys-Swyft': 8.291541294207705e-05,\n",
       " 'Loras-Tyrell': 0.0014427370941760738,\n",
       " 'Orton-Merryweather': 8.14030586589875e-05,\n",
       " 'Paxter-Redwyne': 0.0007728136200821996,\n",
       " 'Porridge': 0.0,\n",
       " 'Salladhor-Saan': 9.544911535533844e-06,\n",
       " 'Shireen-Baratheon': 0.003259285560836598,\n",
       " 'Azor-Ahai': 0.0,\n",
       " 'Bael-the-Bard': 0.0,\n",
       " 'Ygritte': 0.0026551787810019417,\n",
       " 'Baelor-I-Targaryen': 0.0,\n",
       " 'Ballabar': 0.0025157232704402514,\n",
       " 'Frenken': 0.0,\n",
       " 'Podrick-Payne': 0.0033905119771284746,\n",
       " 'Balman-Byrch': 0.0,\n",
       " 'Falyse-Stokeworth': 5.514313720210223e-06,\n",
       " 'Boros-Blount': 0.00022791307139828247,\n",
       " 'Mandon-Moore': 2.3079350359585457e-05,\n",
       " 'Osmund-Kettleblack': 0.0006706719690603072,\n",
       " 'Bannen': 0.0,\n",
       " 'Dywen': 0.0005529332502742543,\n",
       " 'Barbrey-Dustin': 0.00018273084362558118,\n",
       " 'Roger-Ryswell': 0.0,\n",
       " 'Ben-Plumm': 0.0010765479186450402,\n",
       " 'Bloodbeard': 0.00011221585883172927,\n",
       " 'Galazza-Galare': 7.68408703258552e-05,\n",
       " 'Grazhar': 3.762638313722417e-05,\n",
       " 'Groleo': 3.5746482647893155e-05,\n",
       " 'Hizdahr-zo-Loraq': 0.005928327460137852,\n",
       " 'Khrazz': 0.0007475828071983791,\n",
       " 'Larraq': 0.0,\n",
       " 'Missandei': 9.631453300530065e-05,\n",
       " 'Pycelle': 0.007406400989344523,\n",
       " 'Reznak-mo-Reznak': 0.0,\n",
       " 'Skahaz-mo-Kandaq': 5.943145748519372e-05,\n",
       " 'Steelskin': 0.0,\n",
       " 'Widower': 0.0,\n",
       " 'Xaro-Xhoan-Daxos': 4.475016376056243e-05,\n",
       " 'Barsena': 0.0,\n",
       " 'Bartimus': 0.0,\n",
       " 'Bedwyck': 0.0,\n",
       " 'Craster': 0.0038942228313895593,\n",
       " 'Belaquo': 1.28173969242317e-05,\n",
       " 'Goghor-the-Giant': 1.0561390723930527e-06,\n",
       " 'Irri': 0.0009928756172477406,\n",
       " 'Spotted-Cat': 0.0033562161094688376,\n",
       " 'Oznak-zo-Pahl': 0.0,\n",
       " 'Ben-Bones': 0.0,\n",
       " 'Kasporio': 0.0,\n",
       " 'Penny': 0.00027906379100119523,\n",
       " 'Tybero-Istarion': 0.0,\n",
       " 'Benerro': 3.707037692576743e-05,\n",
       " 'Moqorro': 0.0024097174722476876,\n",
       " 'Benethon-Scales': 0.0,\n",
       " 'Narbert-Grandison': 0.0008122717726854876,\n",
       " 'Benfred-Tallhart': 0.000366933219954624,\n",
       " 'Helman-Tallhart': 0.00013603687481027437,\n",
       " 'Leobald-Tallhart': 2.053510216501618e-05,\n",
       " 'Stygg': 4.224556289572211e-06,\n",
       " 'Jaremy-Rykker': 0.002518574845935713,\n",
       " 'Luwin': 0.003151404745809065,\n",
       " 'Waymar-Royce': 0.001593511421620446,\n",
       " 'Jack-Bulwer': 0.0001532218477526164,\n",
       " 'Mariya-Darry': 0.0,\n",
       " 'Beth-Cassel': 0.0,\n",
       " 'Big-Boil': 0.0,\n",
       " 'Black-Balaq': 0.0,\n",
       " 'Blane': 0.0,\n",
       " 'Blue-Bard': 0.0009082673787148315,\n",
       " 'Lambert-Turnberry': 1.0561390723930527e-06,\n",
       " 'Qyburn': 0.0017009228193469747,\n",
       " 'Tallad': 0.0008446553938546397,\n",
       " 'Bonifer-Hasty': 0.0,\n",
       " 'Tanda-Stokeworth': 2.306593869480457e-05,\n",
       " 'Cellador': 1.584208608589579e-06,\n",
       " 'Othell-Yarwyck': 7.309922784523487e-05,\n",
       " 'Tormund': 0.005149821354849632,\n",
       " 'Wick-Whittlestick': 0.0,\n",
       " 'Brynden-Rivers': 0.0,\n",
       " 'Chayle': 0.0,\n",
       " 'Cley-Cerwyn': 0.0,\n",
       " 'Coldhands': 1.5902248510764712e-05,\n",
       " 'Donella-Hornwood': 0.00022409094074470743,\n",
       " 'Hali': 0.0,\n",
       " 'Hallis-Mollen': 0.00011802353185795968,\n",
       " 'Hodor': 0.00021348442860734645,\n",
       " 'Howland-Reed': 0.0,\n",
       " 'Hullen': 4.645095461136198e-05,\n",
       " 'Jon-Umber-(Greatjon)': 0.0013609639161049417,\n",
       " 'Joseth': 0.0,\n",
       " 'Leaf': 0.0,\n",
       " 'Meera-Reed': 0.000301137939683452,\n",
       " 'Osha': 0.0002196001289648622,\n",
       " 'Poxy-Tym': 0.0,\n",
       " 'Reek': 0.0,\n",
       " 'Rickard-Stark': 6.4750592292058945e-06,\n",
       " 'Stafford-Lannister': 4.885523476149553e-05,\n",
       " 'Stiv': 0.0,\n",
       " 'Walder-Frey-(son-of-Jammos)': 0.0,\n",
       " 'Walder-Frey-(son-of-Merrett)': 0.00013721324768086322,\n",
       " 'Brandon-Norrey': 0.002515723270440252,\n",
       " 'Torghen-Flint': 0.0,\n",
       " 'Lyanna-Stark': 1.1501433735985037e-05,\n",
       " 'Brella': 0.0,\n",
       " 'Shae': 0.0008260922747023796,\n",
       " 'Brenett': 0.0,\n",
       " 'Clarence-Crabb': 0.0,\n",
       " 'Cleos-Frey': 1.953312003627843e-05,\n",
       " 'Creighton-Longbough': 2.560382865501444e-05,\n",
       " 'Dick-Crabb': 0.0025574031649131055,\n",
       " 'Dontos-Hollard': 0.0004683058032798911,\n",
       " 'Edmure-Tully': 0.0034605664171717,\n",
       " 'Elder-Brother': 0.0,\n",
       " 'Emmon-Cuy': 1.69236535171999e-05,\n",
       " 'Hyle-Hunt': 0.00028589896892122876,\n",
       " 'Illifer': 0.0,\n",
       " 'Jeyne-Heddle': 0.0,\n",
       " 'Lysa-Arryn': 0.006064574273700654,\n",
       " 'Meribald': 1.6613641885082614e-05,\n",
       " 'Narbert': 0.0,\n",
       " 'Pyg': 2.851575495461242e-06,\n",
       " 'Robar-Royce': 5.0222536812298045e-05,\n",
       " 'Selwyn-Tarth': 0.0,\n",
       " 'Shagwell': 0.00019978214095407203,\n",
       " 'Timeon': 2.860229081972193e-05,\n",
       " 'Vyman': 5.798202162722971e-06,\n",
       " 'Walton': 0.0025157232704402514,\n",
       " 'Willow-Heddle': 0.0,\n",
       " 'Chiggen': 0.0,\n",
       " 'Jacelyn-Bywater': 1.5170614668018604e-05,\n",
       " 'Lollys-Stokeworth': 1.1687539015137513e-05,\n",
       " 'Marillion': 8.36516946028114e-05,\n",
       " 'Shagga': 0.005057665239764379,\n",
       " 'Timett': 4.104540485891182e-06,\n",
       " 'Vardis-Egen': 0.00017898569623962067,\n",
       " 'Willis-Wode': 4.2736524500603565e-05,\n",
       " 'Brus-Buckler': 0.0,\n",
       " 'Malegorn': 0.00035089445727596333,\n",
       " 'Bryce-Caron': 0.00517468178788356,\n",
       " 'Eldon-Estermont': 0.0025157232704402514,\n",
       " 'Guyard-Morrigen': 0.0,\n",
       " 'Daven-Lannister': 0.0,\n",
       " 'Edwyn-Frey': 1.0358287056162632e-06,\n",
       " 'Emmon-Frey': 0.00046420511809337403,\n",
       " 'Hoster-Tully': 0.00034754489115998335,\n",
       " 'Nestor-Royce': 7.730601098666863e-05,\n",
       " 'Ryman-Frey': 0.0010207529325016943,\n",
       " 'Bump': 0.0,\n",
       " 'Varamyr': 0.0075376645596692176,\n",
       " 'Butterbumps': 0.0,\n",
       " 'Olenna-Redwyne': 0.0002925222821061005,\n",
       " 'Byam-Flint': 0.0,\n",
       " 'Caggo': 0.0025157232704402514,\n",
       " 'Lucifer-Long': 0.0,\n",
       " 'Meris': 0.0030656455071906663,\n",
       " 'Camarron': 0.0,\n",
       " 'Captain-Myraham': 0.0,\n",
       " 'Captain-Myraham-Daughter': 0.0,\n",
       " 'Colemon': 0.0001146465899125616,\n",
       " 'Colen-of-Greenpools': 0.0,\n",
       " 'Dacey-Mormont': 0.0,\n",
       " 'Desmond-Grell': 3.1951183889698645e-06,\n",
       " 'Donnel-Waynwood': 0.0,\n",
       " 'Eon-Hunter': 0.0,\n",
       " 'Jason-Mallister': 6.507167576172914e-05,\n",
       " 'Jeyne-Westerling': 0.0010151926512412068,\n",
       " 'Lothar-Frey': 0.00027763274261765415,\n",
       " 'Maege-Mormont': 4.0133284750936e-06,\n",
       " 'Marq-Piper': 0.0001779446177844999,\n",
       " 'Masha-Heddle': 0.0,\n",
       " 'Mathis-Rowan': 0.002588277234969014,\n",
       " 'Moreo-Tumitis': 0.0,\n",
       " 'Mya-Stone': 0.00010876591572008848,\n",
       " 'Mychel-Redfort': 0.0,\n",
       " 'Raynald-Westerling': 3.214983349007396e-05,\n",
       " 'Robert-Arryn': 0.011219032630118763,\n",
       " 'Robin-Ryger': 0.0,\n",
       " 'Roslin-Frey': 0.0,\n",
       " 'Tansy': 0.00019047538010811868,\n",
       " 'Tytos-Blackwood': 0.00010471208881823217,\n",
       " 'Utherydes-Wayn': 0.0,\n",
       " 'Wendel-Manderly': 0.0025799612514695387,\n",
       " 'Cayn': 7.375371188878151e-06,\n",
       " 'Cedric-Payne': 0.0,\n",
       " 'Dorcas': 5.208794164692299e-06,\n",
       " 'Garlan-Tyrell': 0.0025191681291368007,\n",
       " 'Garth-Tyrell': 0.0,\n",
       " 'High-Septon-(Tyrions)': 0.0,\n",
       " 'High-Sparrow': 3.76709556886464e-05,\n",
       " 'Jocelyn-Swyft': 1.8331556756536557e-06,\n",
       " 'Maegor-I-Targaryen': 0.002530380478937382,\n",
       " 'Maggy': 0.0,\n",
       " 'Mark-Mullendore': 0.0,\n",
       " 'Melara-Hetherspoon': 0.002586856871512347,\n",
       " 'Moelle': 0.0,\n",
       " 'Moon-Boy': 9.304259786945671e-06,\n",
       " 'Osfryd-Kettleblack': 0.0,\n",
       " 'Preston-Greenfield': 0.0,\n",
       " 'Raynard': 0.0025157232704402514,\n",
       " 'Robert-Strong': 3.05976728045829e-05,\n",
       " 'Scolera': 0.0,\n",
       " 'Senelle': 0.0,\n",
       " 'Taena-of-Myr': 0.0004920615646338686,\n",
       " 'Unella': 3.168417217179158e-06,\n",
       " 'Vylarr': 0.0,\n",
       " 'Willas-Tyrell': 1.6548059220953507e-05,\n",
       " 'Chataya': 0.0,\n",
       " 'Chella': 0.0,\n",
       " 'Lark': 0.0025889766613995217,\n",
       " 'Small-Paul': 1.1910082421147218e-05,\n",
       " 'Clement-Piper': 0.0,\n",
       " 'Karyl-Vance': 2.0930598657119918e-05,\n",
       " 'Cleon': 1.9111316578167016e-05,\n",
       " 'Ghael': 0.0,\n",
       " 'Kedry': 0.0,\n",
       " 'Clubfoot-Karl': 0.0,\n",
       " 'Mully': 3.737475007851891e-05,\n",
       " 'Cohollo': 0.0,\n",
       " 'Haggo': 3.1156102635595054e-06,\n",
       " 'Qotho': 2.9710640477505736e-05,\n",
       " 'Gretchel': 1.2025488310785857e-05,\n",
       " 'Maddy': 3.672396661643526e-05,\n",
       " 'Conn': 0.002515723270440252,\n",
       " 'Coratt': 0.0,\n",
       " 'Corliss-Penny': 0.0,\n",
       " 'Dirk': 0.0,\n",
       " 'Thoren-Smallwood': 0.0025607586057352204,\n",
       " 'Shadrich': 0.00013265708021213462,\n",
       " 'Cressen': 0.00035251062206929527,\n",
       " 'Patchface': 0.0,\n",
       " 'Pylos': 3.907714567854295e-06,\n",
       " 'Cromm': 0.0,\n",
       " 'Cutjack': 0.005028278123663325,\n",
       " 'Kurz': 0.0,\n",
       " 'Tarber': 0.0,\n",
       " 'Hero': 0.0,\n",
       " 'Prendahl-na-Ghezn': 0.0,\n",
       " 'Sallor': 0.0,\n",
       " 'Daemon-Sand': 0.0,\n",
       " 'Doreah': 2.0666721393873146e-06,\n",
       " 'Eroeh': 0.0,\n",
       " 'Ezzara': 0.0,\n",
       " 'Lynesse-Hightower': 0.0,\n",
       " 'Lysono-Maar': 0.0,\n",
       " 'Marselen': 0.0,\n",
       " 'Mezzara': 0.0,\n",
       " 'Miklaz': 0.0025157232704402514,\n",
       " 'Mirri-Maz-Duur': 9.627620654157046e-06,\n",
       " 'Pono': 4.844394792137382e-05,\n",
       " 'Pyat-Pree': 0.0,\n",
       " 'Qavo-Nogarys': 2.8780479514974933e-05,\n",
       " 'Qezza': 0.00010643307471963738,\n",
       " 'Quaithe': 0.0,\n",
       " 'Rhaegel-Targaryen': 0.0,\n",
       " 'Symon-Stripeback': 0.0,\n",
       " 'Yurkhaz-zo-Yunzak': 0.0,\n",
       " 'Daeron-I-Targaryen': 0.0,\n",
       " 'Dalbridge': 0.0,\n",
       " 'Ebben': 1.0561390723930527e-06,\n",
       " 'Dalla': 3.511508093283836e-05,\n",
       " 'Val': 0.0008120971030509369,\n",
       " 'Damon-Dance-for-Me': 9.346830790678514e-06,\n",
       " 'Grunt': 0.0,\n",
       " 'Skinner': 0.0025157232704402514,\n",
       " 'Sour-Alyn': 1.4099456616447254e-05,\n",
       " 'Danwell-Frey': 0.0010469813075417887,\n",
       " 'Jared-Frey': 6.072799666260053e-06,\n",
       " 'Lanna-(Happy-Port)': 0.0,\n",
       " 'Daryn-Hornwood': 0.0,\n",
       " 'Torrhen-Karstark': 5.228643070468918e-05,\n",
       " 'Devan-Seaworth': 0.00032812555248298245,\n",
       " 'Garth-(Wolfs-Den)': 0.0,\n",
       " 'Godric-Borrell': 0.0,\n",
       " 'Guncer-Sunglass': 0.0,\n",
       " 'Imry-Florent': 0.0,\n",
       " 'Khorane-Sathmantes': 0.0,\n",
       " 'Leona-Woolfield': 0.0,\n",
       " 'Marlon-Manderly': 0.0,\n",
       " 'Matthos-Seaworth': 0.0,\n",
       " 'Robett-Glover': 0.0005003390967274182,\n",
       " 'Sybell-Spicer': 0.0023619025515185747,\n",
       " 'Denzo-Dhan': 0.0,\n",
       " 'Eustace-Brune': 0.0,\n",
       " 'Dick-Follard': 0.0,\n",
       " 'Dick-Straw': 0.0025157232704402514,\n",
       " 'Hugh-Hungerford': 0.0,\n",
       " 'Dolf': 0.0,\n",
       " 'Mag-Mar-Tun-Doh-Weg': 0.0,\n",
       " 'Lothor-Brune': 4.5401852171680255e-05,\n",
       " 'Nymeria-Sand': 1.807875861591532e-05,\n",
       " 'Draqaz': 0.0,\n",
       " 'Drennan': 0.0,\n",
       " 'Squint': 7.392973506751368e-06,\n",
       " 'Jommo': 0.0,\n",
       " 'Ogo': 0.002515723270440251,\n",
       " 'Rhaego': 0.0,\n",
       " 'Dryn': 0.0,\n",
       " 'Stonesnake': 2.1122781447861054e-06,\n",
       " 'High-Septon-(fat_one)': 0.0,\n",
       " 'Jacks': 0.0,\n",
       " 'Joss': 0.0,\n",
       " 'Maron-Greyjoy': 0.0,\n",
       " 'Porther': 0.0,\n",
       " 'Raymun-Darry': 0.0,\n",
       " 'Tobho-Mott': 0.0,\n",
       " 'Tregar': 0.0,\n",
       " 'Varly': 0.0,\n",
       " 'Willam-Dustin': 0.0,\n",
       " 'Wyl-(guard)': 0.00026936884842151867,\n",
       " 'Wylla': 0.0,\n",
       " 'Emmett': 2.224992657579021e-05,\n",
       " 'Watt': 0.0,\n",
       " 'Forley-Prester': 0.0,\n",
       " 'Walder-Rivers': 6.15494317015518e-05,\n",
       " 'Steffon-Varner': 0.0,\n",
       " 'Hop-Robin': 0.0,\n",
       " 'Genna-Lannister': 0.0,\n",
       " 'Errok': 1.0561390723930527e-06,\n",
       " 'Grigg': 1.0561390723930527e-06,\n",
       " 'Styr': 2.12309099719394e-05,\n",
       " 'Hotho-Harlaw': 0.0005914155335047483,\n",
       " 'Humfrey-Hewett': 0.0,\n",
       " 'Nute': 8.977182115340948e-06,\n",
       " 'Quellon-Greyjoy': 0.0,\n",
       " 'Sawane-Botley': 0.0,\n",
       " 'Farlen': 0.0,\n",
       " 'Florian-the-Fool': 0.002515723270440252,\n",
       " 'Jonquil': 0.0,\n",
       " 'Fogo': 0.0,\n",
       " 'Frenya': 0.0,\n",
       " 'Holly': 8.742216510747485e-06,\n",
       " 'Fulk': 0.0,\n",
       " 'Galyeon-of-Cuy': 0.0,\n",
       " 'Gared': 0.001020953025918221,\n",
       " 'Will-(prologue)': 0.0,\n",
       " 'Murch': 0.0,\n",
       " 'Leonette-Fossoway': 0.0,\n",
       " 'Garrett-Paege': 0.0,\n",
       " 'Garth-Greyfeather': 0.0,\n",
       " 'Hairy-Hal': 0.0,\n",
       " 'Gawen-Westerling': 2.6403476809826316e-06,\n",
       " 'Gendel': 0.0,\n",
       " 'Gorne': 0.0,\n",
       " 'Merrit': 0.0,\n",
       " 'Gerold-Grafton': 0.0,\n",
       " 'Terrance-Lynderly': 0.0025157232704402514,\n",
       " 'Oswell-Whent': 0.0012001879359874483,\n",
       " 'Gerrick-Kingsblood': 0.002515723270440252,\n",
       " 'Raymun-Redbeard': 0.0,\n",
       " 'Kojja-Mo': 0.0,\n",
       " 'Gormon-Tyrell': 0.0,\n",
       " 'Walgrave': 0.002515723270440251,\n",
       " 'Grazdan-mo-Eraz': 0.0,\n",
       " 'Kegs': 9.86831312406845e-06,\n",
       " 'Todder': 0.0,\n",
       " 'Jarl': 2.06651211831574e-05,\n",
       " 'Lorren': 0.0037536280248678627,\n",
       " 'Grisel': 0.0,\n",
       " 'Gunthor-son-of-Gurn': 0.0,\n",
       " 'Gyles-Grafton': 0.0,\n",
       " 'Haggon': 0.0,\n",
       " 'Hake': 0.0,\n",
       " 'Hallyne': 0.0,\n",
       " 'Halys-Hornwood': 0.0,\n",
       " 'Leathers': 2.2706990056450633e-05,\n",
       " 'Rory': 0.0,\n",
       " 'Spare-Boot': 1.2673668868716633e-06,\n",
       " 'Harl': 0.0,\n",
       " 'Harma': 3.906205797750876e-05,\n",
       " 'Rattleshirt': 8.268911785691349e-05,\n",
       " 'Weeper': 6.336834434358316e-06,\n",
       " 'Harras-Harlaw': 0.0,\n",
       " 'Myles-Toyne': 0.0,\n",
       " 'Harwood-Stout': 0.0,\n",
       " 'Heward': 0.0,\n",
       " 'Marghaz-zo-Loraq': 0.0,\n",
       " 'Hobber-Redwyne': 0.0,\n",
       " 'Horas-Redwyne': 0.002515723270440252,\n",
       " 'Rowan': 5.7623551710906995e-05,\n",
       " 'Hoster-Blackwood': 0.0,\n",
       " 'Mebble': 0.0,\n",
       " 'Hother-Umber': 4.296138784731474e-05,\n",
       " 'Sigfryd-Harlaw': 0.0,\n",
       " 'Hugh': 0.0,\n",
       " 'Hugo-Vance': 0.0,\n",
       " 'Jack-Be-Lucky': 0.0,\n",
       " 'Jaehaerys-I-Targaryen': 0.0,\n",
       " 'Jafer-Flowers': 0.0,\n",
       " 'Jonos-Bracken': 0.0,\n",
       " 'Josmyn-Peckledon': 0.0,\n",
       " 'Joy-Hill': 0.0,\n",
       " 'Lewys-Piper': 0.0,\n",
       " 'Pia': 0.0001308512760039638,\n",
       " 'Rennifer-Longwaters': 0.0025157232704402523,\n",
       " 'Ronnet-Connington': 0.0,\n",
       " 'Shitmouth': 0.0,\n",
       " 'Tysha': 1.503204570615559e-05,\n",
       " 'Urswyck': 0.0,\n",
       " 'Wylis-Manderly': 0.0,\n",
       " 'Zollo': 6.336834434358316e-07,\n",
       " 'Rhaegar-Frey': 0.0006320981978341687,\n",
       " 'Jarman-Buckwell': 0.0,\n",
       " 'Ottyn-Wythers': 1.7866159209251273e-05,\n",
       " 'Jeyne-Farman': 0.0,\n",
       " 'Squirrel': 9.193729670679287e-06,\n",
       " 'Joanna-Lannister': 0.0,\n",
       " 'Nyessos-Vhassar': 0.0025157232704402514,\n",
       " 'Jon-Fossoway': 0.0,\n",
       " 'Matthar': 0.0,\n",
       " 'Orell': 0.0,\n",
       " 'Othor': 0.0,\n",
       " 'Patrek-of-Kings-Mountain': 1.0561390723930527e-06,\n",
       " 'Ryk': 0.0,\n",
       " 'Soren-Shieldbreaker': 0.0,\n",
       " 'Tom-Barleycorn': 0.0,\n",
       " 'Toregg': 0.0,\n",
       " 'Ulmer': 0.0,\n",
       " 'Wun-Weg-Wun-Dar-Wun': 9.662656994057593e-06,\n",
       " 'Zei': 0.0,\n",
       " 'Jon-Umber-(Smalljon)': 0.0,\n",
       " 'Robin-Flint': 0.0,\n",
       " 'Jonothor-Darry': 0.0,\n",
       " 'Nurse': 1.2940514090929106e-05,\n",
       " 'Joramun': 0.0,\n",
       " 'Richard-Horpe': 0.0,\n",
       " 'Jyck': 0.0,\n",
       " 'Morrec': 0.0,\n",
       " 'Kella': 0.0,\n",
       " 'Kerwin': 0.0,\n",
       " 'Willem-Lannister': 0.0026230008735385157,\n",
       " 'Kurleket': 0.0,\n",
       " 'Kyra': 0.0,\n",
       " 'Softfoot': 0.0,\n",
       " 'Leo-Lefford': 0.0,\n",
       " 'Symon-Silver-Tongue': 0.0,\n",
       " 'Longwater-Pyke': 0.0,\n",
       " 'Lorent-Caswell': 0.0,\n",
       " 'Urzen': 0.0,\n",
       " 'Merrett-Frey': 8.774721355428137e-06,\n",
       " 'Lucas-Codd': 0.0025157232704402514,\n",
       " 'Torwold-Browntooth': 0.0,\n",
       " 'Luton': 0.0,\n",
       " 'Lyanna-Mormont': 0.0,\n",
       " 'Lyn-Corbray': 2.1049273383776386e-05,\n",
       " 'Lyonel-Corbray': 0.0,\n",
       " 'Malaquo-Maegyr': 0.0,\n",
       " 'Mallador-Locke': 0.0,\n",
       " 'Manfrey-Martell': 0.0,\n",
       " 'Martyn-Lannister': 3.113962455847587e-05,\n",
       " 'Martyn-Rivers': 0.0,\n",
       " 'Rodrik-Sparr': 0.0,\n",
       " 'Mord': 0.0,\n",
       " 'Morgo': 0.0,\n",
       " 'Munda': 0.0,\n",
       " 'Myranda-Royce': 2.2058130624666768e-05,\n",
       " 'Trystane-Martell': 6.414214225040858e-05,\n",
       " 'Nage': 0.0,\n",
       " 'Yezzan-zo-Qaggaz': 5.80876489816179e-06,\n",
       " 'Ralf-Stonehouse': 0.0,\n",
       " 'Old-Bill-Bone': 0.0,\n",
       " 'Olyvar-Frey': 0.0,\n",
       " 'Oswell-Kettleblack': 0.0,\n",
       " 'Palla': 0.0,\n",
       " 'Quill': 0.0,\n",
       " 'Rosey': 0.0,\n",
       " 'Pate-(whipping-boy)': 0.0,\n",
       " 'Sweets': 0.0,\n",
       " 'Perwyn-Frey': 0.0,\n",
       " 'Petyr-Frey': 1.0561390723930527e-06,\n",
       " 'Puckens': 0.0025157232704402514,\n",
       " 'Shortear': 0.0,\n",
       " 'Ragwyle': 0.0,\n",
       " 'Quhuru-Mo': 0.0,\n",
       " 'Xhondo': 0.0,\n",
       " 'Ralf-(Limper)': 0.0,\n",
       " 'Yellow-Dick': 0.0,\n",
       " 'Rollam-Westerling': 0.0,\n",
       " 'Torbert': 0.0,\n",
       " 'Steffon-Baratheon': 0.0,\n",
       " 'Rugen': 0.0,\n",
       " 'Rhaella-Targaryen': 0.0,\n",
       " 'Rolph-Spicer': 0.0,\n",
       " 'Tristifer-IV-Mudd': 0.0,\n",
       " 'Walda-Frey-(daughter-of-Merrett)': 0.0,\n",
       " 'Roose-Ryswell': 0.0,\n",
       " 'Theobald': 0.0,\n",
       " 'Sarella-Sand': 0.0,\n",
       " 'Scar': 0.0,\n",
       " 'Shadd': 0.0,\n",
       " 'Ulf-son-of-Umar': 0.0,\n",
       " 'Shrouded-Lord': 0.0,\n",
       " 'Simon-Toyne': 0.0,\n",
       " 'Theomore': 0.0,\n",
       " 'William-Foxglove': 0.0,\n",
       " 'Werlag': 0.0,\n",
       " 'Talbert-Serry': 0.0,\n",
       " 'Willow-Witch-eye': 0.0,\n",
       " 'Thistle': 0.0,\n",
       " 'Tion-Frey': 0.0,\n",
       " 'Wulfe': 0.0}"
      ]
     },
     "execution_count": 36,
     "metadata": {},
     "output_type": "execute_result"
    }
   ],
   "source": [
    "betweenness"
   ]
  },
  {
   "cell_type": "code",
   "execution_count": 37,
   "metadata": {
    "collapsed": true,
    "jupyter": {
     "outputs_hidden": true
    }
   },
   "outputs": [],
   "source": [
    "hubs = [n for n in G.nodes if betweenness[n] > 0.1] # this is an arbitrary threshold"
   ]
  },
  {
   "cell_type": "code",
   "execution_count": 38,
   "metadata": {
    "collapsed": true,
    "jupyter": {
     "outputs_hidden": true
    }
   },
   "outputs": [
    {
     "data": {
      "image/png": "[encoded data removed]",
      "text/plain": [
       "<Figure size 432x288 with 1 Axes>"
      ]
     },
     "metadata": {},
     "output_type": "display_data"
    }
   ],
   "source": [
    "node_colors = ['skyblue' if n in hubs else 'pink' for n in G.nodes]\n",
    "        \n",
    "nx.draw(G, node_color=node_colors, node_size = 10)"
   ]
  },
  {
   "cell_type": "markdown",
   "metadata": {},
   "source": [
    "let's try to increase the size of the hubs and label them"
   ]
  },
  {
   "cell_type": "code",
   "execution_count": 39,
   "metadata": {
    "collapsed": true,
    "jupyter": {
     "outputs_hidden": true
    }
   },
   "outputs": [
    {
     "data": {
      "image/png": "[encoded data removed]",
      "text/plain": [
       "<Figure size 432x288 with 1 Axes>"
      ]
     },
     "metadata": {},
     "output_type": "display_data"
    }
   ],
   "source": [
    "hub_labels = {} # dictionary with keys as nodes and values as nodes as well   \n",
    "node_sizes = [] # list of sizes\n",
    "\n",
    "for node in G.nodes():\n",
    "    if node in hubs:\n",
    "        hub_labels[node] = '\\n'.join(str(node).split('-'))\n",
    "        node_sizes.append(500)\n",
    "    else:\n",
    "        hub_labels[node] = '' # set to a blank label if not a hub\n",
    "        node_sizes.append(10)\n",
    "\n",
    "nx.draw(G, with_labels = True, labels = hub_labels,\n",
    "        width = 0.01, # make the edges lighter\n",
    "        node_color = node_colors, node_size = node_sizes,\n",
    "        font_color='blue', font_size = 10)"
   ]
  },
  {
   "cell_type": "markdown",
   "metadata": {},
   "source": [
    "More on networkx drawing: https://memgraph.github.io/networkx-guide/visualization/basics/"
   ]
  },
  {
   "cell_type": "code",
   "execution_count": 40,
   "metadata": {},
   "outputs": [],
   "source": [
    "# END OF CODE"
   ]
  }
 ],
 "metadata": {
  "kernelspec": {
   "display_name": "Python 3 (ipykernel)",
   "language": "python",
   "name": "python3"
  },
  "language_info": {
   "codemirror_mode": {
    "name": "ipython",
    "version": 3
   },
   "file_extension": ".py",
   "mimetype": "text/x-python",
   "name": "python",
   "nbconvert_exporter": "python",
   "pygments_lexer": "ipython3",
   "version": "3.10.12"
  }
 },
 "nbformat": 4,
 "nbformat_minor": 4
}
