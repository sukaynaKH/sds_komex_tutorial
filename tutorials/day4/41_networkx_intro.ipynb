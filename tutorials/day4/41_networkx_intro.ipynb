{
 "cells": [
  {
   "cell_type": "markdown",
   "id": "ea971e51",
   "metadata": {},
   "source": [
    "# Introduction to Networkx and Graph Data\n",
    "\n",
    "You can use NetworkX to construct and draw graphs that are undirected or directed, with weighted or unweighted edges. An array of functions to analyze graphs is available. This tutorial takes you through a few basic examples and exercises.\n",
    "\n",
    "\n",
    "## Official documentation for version used in this tutorial\n",
    "\n",
    "https://networkx.github.io/documentation/networkx-2.2/\n",
    "\n",
    "## Official tutorial for version used in this tutorial\n",
    "\n",
    "https://networkx.github.io/documentation/networkx-2.2/tutorial.html\n",
    "\n",
    "Parts of this tutorial were adapted from the material associated with the textbook \"A First Course in Network Science\" by Filippo Menczer, Santo Fortunato & Clayton A. Davis. You can find the materials for a deeper dive here: https://github.com/CambridgeUniversityPress/FirstCourseNetworkScience and the book here: https://www.cambridge.org/us/universitypress/subjects/physics/statistical-physics/first-course-network-science"
   ]
  },
  {
   "cell_type": "code",
   "execution_count": 1,
   "id": "ea1c4947",
   "metadata": {},
   "outputs": [],
   "source": [
    "# ! pip install networkx"
   ]
  },
  {
   "cell_type": "code",
   "execution_count": 1,
   "id": "680f0199",
   "metadata": {},
   "outputs": [],
   "source": [
    "import networkx as nx\n",
    "%matplotlib inline"
   ]
  },
  {
   "cell_type": "code",
   "execution_count": 16,
   "id": "d14a9eaf-ba2f-493c-8733-1dd7aa39fe43",
   "metadata": {},
   "outputs": [],
   "source": [
    "import random\n",
    "random.seed(9001)"
   ]
  },
  {
   "cell_type": "markdown",
   "id": "47909c7e",
   "metadata": {},
   "source": [
    "# Creating and drawing undirected graphs"
   ]
  },
  {
   "cell_type": "code",
   "execution_count": 19,
   "id": "606711e5",
   "metadata": {},
   "outputs": [
    {
     "data": {
      "image/png": "[encoded data removed]",
      "text/plain": [
       "<Figure size 432x288 with 1 Axes>"
      ]
     },
     "metadata": {},
     "output_type": "display_data"
    }
   ],
   "source": [
    "# a \"plain\" graph is undirected\n",
    "G = nx.Graph()\n",
    "\n",
    "# give each a node a 'name', which is a letter in this case.\n",
    "G.add_node('a')\n",
    "\n",
    "# the add_nodes_from method allows adding nodes from a sequence, in this case a list\n",
    "nodes_to_add = ['b', 'c', 'd']\n",
    "G.add_nodes_from(nodes_to_add)\n",
    "\n",
    "# draw the graph\n",
    "nx.draw(G, with_labels=True)"
   ]
  },
  {
   "cell_type": "code",
   "execution_count": 65,
   "id": "d7569c7a-8d1d-4631-961f-f88f93c60340",
   "metadata": {},
   "outputs": [
    {
     "data": {
      "image/png": "[encoded data removed]",
      "text/plain": [
       "<Figure size 432x288 with 1 Axes>"
      ]
     },
     "metadata": {},
     "output_type": "display_data"
    }
   ],
   "source": [
    "# add edge from 'a' to 'b'\n",
    "# since this graph is undirected, the order doesn't matter here\n",
    "G.add_edge('a', 'b')\n",
    "\n",
    "# just like add_nodes_from, we can add edges from a sequence\n",
    "# edges should be specified as 2-tuples\n",
    "edges_to_add = [('a', 'c'), ('b', 'c'), ('c', 'd')]\n",
    "G.add_edges_from(edges_to_add)\n",
    "\n",
    "G.remove_edge('b', 'a')\n",
    "\n",
    "# draw the graph\n",
    "nx.draw(G, with_labels=True)"
   ]
  },
  {
   "cell_type": "markdown",
   "id": "b8f2d967",
   "metadata": {},
   "source": [
    "There are many optional arguments to the draw function to customize the appearance."
   ]
  },
  {
   "cell_type": "code",
   "execution_count": 66,
   "id": "70142e55",
   "metadata": {},
   "outputs": [
    {
     "data": {
      "image/png": "[encoded data removed]",
      "text/plain": [
       "<Figure size 432x288 with 1 Axes>"
      ]
     },
     "metadata": {},
     "output_type": "display_data"
    }
   ],
   "source": [
    "nx.draw(G,\n",
    "        with_labels=True,\n",
    "        node_color='blue',\n",
    "        node_size=1600,\n",
    "        font_color='white',\n",
    "        font_size=16,\n",
    "        )"
   ]
  },
  {
   "cell_type": "markdown",
   "id": "055e4915",
   "metadata": {},
   "source": [
    "# Graph methods\n",
    "\n",
    "The graph object has some properties and methods giving data about the whole graph."
   ]
  },
  {
   "cell_type": "code",
   "execution_count": 22,
   "id": "5a831296",
   "metadata": {},
   "outputs": [
    {
     "data": {
      "text/plain": [
       "NodeView(('a', 'b', 'c', 'd'))"
      ]
     },
     "execution_count": 22,
     "metadata": {},
     "output_type": "execute_result"
    }
   ],
   "source": [
    "# List all of the nodes\n",
    "G.nodes()"
   ]
  },
  {
   "cell_type": "code",
   "execution_count": 23,
   "id": "af540ba1",
   "metadata": {},
   "outputs": [
    {
     "data": {
      "text/plain": [
       "EdgeView([('a', 'b'), ('a', 'c'), ('b', 'c'), ('c', 'd')])"
      ]
     },
     "execution_count": 23,
     "metadata": {},
     "output_type": "execute_result"
    }
   ],
   "source": [
    "# List all of the edges\n",
    "G.edges()"
   ]
  },
  {
   "cell_type": "markdown",
   "id": "cd9de133",
   "metadata": {},
   "source": [
    "NodeView and EdgeView objects have iterators, so we can use them in `for` loops:"
   ]
  },
  {
   "cell_type": "code",
   "execution_count": 24,
   "id": "e5bb6875",
   "metadata": {},
   "outputs": [
    {
     "name": "stdout",
     "output_type": "stream",
     "text": [
      "a\n",
      "b\n",
      "c\n",
      "d\n"
     ]
    }
   ],
   "source": [
    "for node in G.nodes:\n",
    "    print(node)"
   ]
  },
  {
   "cell_type": "code",
   "execution_count": 8,
   "id": "9ff1728b",
   "metadata": {
    "scrolled": true
   },
   "outputs": [
    {
     "name": "stdout",
     "output_type": "stream",
     "text": [
      "('a', 'b')\n",
      "('a', 'c')\n",
      "('b', 'c')\n",
      "('c', 'd')\n"
     ]
    }
   ],
   "source": [
    "for edge in G.edges:\n",
    "    print(edge)"
   ]
  },
  {
   "cell_type": "markdown",
   "id": "249efa2a",
   "metadata": {},
   "source": [
    "Note that the edges are given as 2-tuples, the same way we entered them.\n",
    "\n",
    "We can get the number of nodes and edges in a graph using the `number_of_` methods."
   ]
  },
  {
   "cell_type": "code",
   "execution_count": 25,
   "id": "218b9c98",
   "metadata": {},
   "outputs": [
    {
     "data": {
      "text/plain": [
       "4"
      ]
     },
     "execution_count": 25,
     "metadata": {},
     "output_type": "execute_result"
    }
   ],
   "source": [
    "G.number_of_nodes()"
   ]
  },
  {
   "cell_type": "code",
   "execution_count": 26,
   "id": "f5f70213",
   "metadata": {},
   "outputs": [
    {
     "data": {
      "text/plain": [
       "4"
      ]
     },
     "execution_count": 26,
     "metadata": {},
     "output_type": "execute_result"
    }
   ],
   "source": [
    "G.number_of_edges()"
   ]
  },
  {
   "cell_type": "markdown",
   "id": "ee2ae07e",
   "metadata": {},
   "source": [
    "Some graph methods take an edge or node as argument. These provide the graph properties of the given edge or node. For example, the `.neighbors()` method gives the nodes linked to the given node:"
   ]
  },
  {
   "cell_type": "code",
   "execution_count": 27,
   "id": "0e6e9c37",
   "metadata": {},
   "outputs": [
    {
     "data": {
      "text/plain": [
       "<dict_keyiterator at 0x7f2bc9fc8360>"
      ]
     },
     "execution_count": 27,
     "metadata": {},
     "output_type": "execute_result"
    }
   ],
   "source": [
    "# list of neighbors of node 'b'\n",
    "G.neighbors('b')"
   ]
  },
  {
   "cell_type": "markdown",
   "id": "87e96a33",
   "metadata": {},
   "source": [
    "For performance reasons, many graph methods return iterators instead of lists. They are convenient to loop over:"
   ]
  },
  {
   "cell_type": "code",
   "execution_count": 28,
   "id": "2a1a4f44",
   "metadata": {},
   "outputs": [
    {
     "name": "stdout",
     "output_type": "stream",
     "text": [
      "a\n",
      "c\n"
     ]
    }
   ],
   "source": [
    "for neighbor in G.neighbors('b'):\n",
    "    print(neighbor)"
   ]
  },
  {
   "cell_type": "markdown",
   "id": "5a45ed5e",
   "metadata": {},
   "source": [
    "and you can always use the `list` constructor to make a list from an iterator:"
   ]
  },
  {
   "cell_type": "code",
   "execution_count": 13,
   "id": "fafc23af",
   "metadata": {},
   "outputs": [
    {
     "data": {
      "text/plain": [
       "['a', 'c']"
      ]
     },
     "execution_count": 13,
     "metadata": {},
     "output_type": "execute_result"
    }
   ],
   "source": [
    "list(G.neighbors('b'))"
   ]
  },
  {
   "cell_type": "markdown",
   "id": "e0235245",
   "metadata": {},
   "source": [
    "# NetworkX functions vs. Graph methods\n",
    "\n",
    "The previous data are available via graph *methods*, *i.e.* they are called from the graph object:\n",
    "\n",
    "    G.<method_name>(<arguments>)\n",
    "\n",
    "While several of the most-used NetworkX functions are provided as methods, many more of them are module functions and are called like this:\n",
    "\n",
    "    nx.<function_name>(G, <arguments>)\n",
    "\n",
    "that is, with the graph provided as the first, and maybe only, argument. Here are a couple of examples of NetworkX module functions that provide information about a graph:"
   ]
  },
  {
   "cell_type": "code",
   "execution_count": 29,
   "id": "125d2389",
   "metadata": {},
   "outputs": [
    {
     "data": {
      "text/plain": [
       "False"
      ]
     },
     "execution_count": 29,
     "metadata": {},
     "output_type": "execute_result"
    }
   ],
   "source": [
    "nx.is_tree(G) # each node is connected to all other nodes through only one path"
   ]
  },
  {
   "cell_type": "code",
   "execution_count": 31,
   "id": "e9bcf7d4",
   "metadata": {},
   "outputs": [
    {
     "data": {
      "text/plain": [
       "True"
      ]
     },
     "execution_count": 31,
     "metadata": {},
     "output_type": "execute_result"
    }
   ],
   "source": [
    "nx.is_connected(G) # fully connected component or not"
   ]
  },
  {
   "cell_type": "markdown",
   "id": "9c81ccb4",
   "metadata": {},
   "source": [
    "# Node and edge existence\n",
    "\n",
    "To check if a node is present in a graph, you can use the `has_node()` method:"
   ]
  },
  {
   "cell_type": "code",
   "execution_count": 32,
   "id": "c9f7a70f",
   "metadata": {},
   "outputs": [
    {
     "data": {
      "text/plain": [
       "True"
      ]
     },
     "execution_count": 32,
     "metadata": {},
     "output_type": "execute_result"
    }
   ],
   "source": [
    "G.has_node('a')"
   ]
  },
  {
   "cell_type": "code",
   "execution_count": 33,
   "id": "7ae67839",
   "metadata": {},
   "outputs": [
    {
     "data": {
      "text/plain": [
       "False"
      ]
     },
     "execution_count": 33,
     "metadata": {},
     "output_type": "execute_result"
    }
   ],
   "source": [
    "G.has_node('x')"
   ]
  },
  {
   "cell_type": "markdown",
   "id": "9246fd1d",
   "metadata": {},
   "source": [
    "Additionally, the loop syntax used above: `for n in G.nodes` suggests another way we can check if a node is in a graph:"
   ]
  },
  {
   "cell_type": "code",
   "execution_count": 34,
   "id": "b3619312",
   "metadata": {},
   "outputs": [
    {
     "data": {
      "text/plain": [
       "True"
      ]
     },
     "execution_count": 34,
     "metadata": {},
     "output_type": "execute_result"
    }
   ],
   "source": [
    "'d' in G.nodes"
   ]
  },
  {
   "cell_type": "markdown",
   "id": "82a48380",
   "metadata": {},
   "source": [
    "Likewise we can check if two nodes are connected by an edge:"
   ]
  },
  {
   "cell_type": "code",
   "execution_count": 35,
   "id": "644e064b",
   "metadata": {},
   "outputs": [
    {
     "data": {
      "text/plain": [
       "True"
      ]
     },
     "execution_count": 35,
     "metadata": {},
     "output_type": "execute_result"
    }
   ],
   "source": [
    "G.has_edge('a', 'b')"
   ]
  },
  {
   "cell_type": "code",
   "execution_count": 36,
   "id": "3c0495bb",
   "metadata": {},
   "outputs": [
    {
     "data": {
      "text/plain": [
       "False"
      ]
     },
     "execution_count": 36,
     "metadata": {},
     "output_type": "execute_result"
    }
   ],
   "source": [
    "G.has_edge('a', 'd')"
   ]
  },
  {
   "cell_type": "code",
   "execution_count": 37,
   "id": "b4781b2b",
   "metadata": {},
   "outputs": [
    {
     "data": {
      "text/plain": [
       "True"
      ]
     },
     "execution_count": 37,
     "metadata": {},
     "output_type": "execute_result"
    }
   ],
   "source": [
    "('c', 'd') in G.edges"
   ]
  },
  {
   "cell_type": "markdown",
   "id": "04e9a77f",
   "metadata": {},
   "source": [
    "# Node degree\n",
    "\n",
    "One of the most important questions we can ask about a node in a graph is how many other nodes it connects to. Using the `.neighbors()` method from above, we could formulate this question as so:"
   ]
  },
  {
   "cell_type": "code",
   "execution_count": 22,
   "id": "82ad6af6",
   "metadata": {},
   "outputs": [
    {
     "data": {
      "text/plain": [
       "2"
      ]
     },
     "execution_count": 22,
     "metadata": {},
     "output_type": "execute_result"
    }
   ],
   "source": [
    "len(list(G.neighbors('a')))"
   ]
  },
  {
   "cell_type": "markdown",
   "id": "694627cc",
   "metadata": {},
   "source": [
    "but this is such a common task that NetworkX provides us a graph method to do this in a much clearer way:"
   ]
  },
  {
   "cell_type": "code",
   "execution_count": 23,
   "id": "a30edee1",
   "metadata": {},
   "outputs": [
    {
     "data": {
      "text/plain": [
       "2"
      ]
     },
     "execution_count": 23,
     "metadata": {},
     "output_type": "execute_result"
    }
   ],
   "source": [
    "G.degree('a')"
   ]
  },
  {
   "cell_type": "markdown",
   "id": "96f61363",
   "metadata": {},
   "source": [
    "# EXERCISE 1\n",
    "Often in the context of trees, a node with degree 1 is called a *leaf*. Write a function named `get_leaves` that takes a graph as an argument, loops through the nodes, and returns a list of nodes with degree 1."
   ]
  },
  {
   "cell_type": "code",
   "execution_count": 67,
   "id": "127f6432",
   "metadata": {
    "scrolled": true
   },
   "outputs": [],
   "source": [
    "def get_leaves(G):\n",
    "    leafs = []\n",
    "    for node in G.nodes:\n",
    "        if len(list(G.neighbors(node))) == 1:\n",
    "            leafs.append(node)\n",
    "    return leafs\n",
    "    pass"
   ]
  },
  {
   "cell_type": "code",
   "execution_count": 68,
   "id": "ef8b9fe2-7a97-46ef-b755-515c5cb65ba0",
   "metadata": {},
   "outputs": [
    {
     "data": {
      "text/plain": [
       "['a', 'b', 'd']"
      ]
     },
     "execution_count": 68,
     "metadata": {},
     "output_type": "execute_result"
    }
   ],
   "source": [
    "get_leaves(G)"
   ]
  },
  {
   "cell_type": "code",
   "execution_count": 69,
   "id": "69f23815",
   "metadata": {
    "scrolled": true
   },
   "outputs": [
    {
     "data": {
      "text/plain": [
       "['b', 'c']"
      ]
     },
     "execution_count": 69,
     "metadata": {},
     "output_type": "execute_result"
    }
   ],
   "source": [
    "G = nx.Graph()\n",
    "G.add_edges_from([\n",
    "        ('a', 'b'),\n",
    "        ('a', 'd'),\n",
    "        ('c', 'd'),\n",
    "    ])\n",
    "\n",
    "get_leaves(G)"
   ]
  },
  {
   "cell_type": "code",
   "execution_count": 70,
   "id": "d03c4f87",
   "metadata": {},
   "outputs": [
    {
     "data": {
      "image/png": "[encoded data removed]",
      "text/plain": [
       "<Figure size 432x288 with 1 Axes>"
      ]
     },
     "metadata": {},
     "output_type": "display_data"
    }
   ],
   "source": [
    "nx.draw(G)"
   ]
  },
  {
   "cell_type": "markdown",
   "id": "afce41cc",
   "metadata": {},
   "source": [
    "# Node names\n",
    "\n",
    "The node names don't have to be single characters -- they can be strings or integers or any immutable object, and the types can be mixed. The example below uses strings and integers for names."
   ]
  },
  {
   "cell_type": "code",
   "execution_count": 77,
   "id": "569443b8",
   "metadata": {},
   "outputs": [
    {
     "data": {
      "image/png": "[encoded data removed]",
      "text/plain": [
       "<Figure size 432x288 with 1 Axes>"
      ]
     },
     "metadata": {},
     "output_type": "display_data"
    }
   ],
   "source": [
    "G = nx.Graph()\n",
    "\n",
    "G.add_nodes_from(['cat','dog','virus',13])\n",
    "\n",
    "G.add_edge('cat','dog')\n",
    "\n",
    "nx.draw(G, with_labels=True, font_color='white', node_size=1000)"
   ]
  },
  {
   "cell_type": "markdown",
   "id": "18ae33ef",
   "metadata": {},
   "source": [
    "# Adjacency lists\n",
    "\n",
    "One compact way to represent a graph is an adjacency list. This is most useful for unweighted graphs, directed or undirected. In an adjacency list, each line contains some number of node names. The first node name is the \"source\" and each other node name on the line is a \"target\". For instance, given the following adjacency list:\n",
    "```\n",
    "a d e\n",
    "b c\n",
    "c\n",
    "d\n",
    "e\n",
    "```\n",
    "the edges are as follows:\n",
    "```\n",
    "(a, d)\n",
    "(a, e)\n",
    "(b, c)\n",
    "```\n",
    "The nodes on their own line exist so that we are sure to include any singleton nodes. Note that if our graph is undirected, we only need to specify one direction for each edge. Importantly, whether the graph is directed or undirected is often not contained in the file itself -- you have to infer it. This is one limitation of the format.\n",
    "\n",
    "In the `datasets` directory, there is a file called `friends.adjlist`. It's a plain text file, so you can open it on your computer or in GitHub, but here are its contents:"
   ]
  },
  {
   "cell_type": "code",
   "execution_count": 78,
   "id": "1c2b0477",
   "metadata": {},
   "outputs": [
    {
     "name": "stdout",
     "output_type": "stream",
     "text": [
      "George Frank Dennis\n",
      "Dennis Claire Esther\n",
      "Claire Frank Alice Esther\n",
      "Bob Alice\n",
      "Frank Alice\n",
      "Alice\n",
      "Esther\n",
      "Shelly\n",
      "\n"
     ]
    }
   ],
   "source": [
    "print(open('datasets/friends.adjlist').read())"
   ]
  },
  {
   "cell_type": "markdown",
   "id": "ac1d8fcd",
   "metadata": {},
   "source": [
    "NetworkX provides a way to read a graph from an adjacency list: `nx.read_adjlist()`. We will name this graph SG, for social graph."
   ]
  },
  {
   "cell_type": "code",
   "execution_count": 80,
   "id": "bf9b54a3",
   "metadata": {},
   "outputs": [],
   "source": [
    "SG = nx.read_adjlist('datasets/friends.adjlist')"
   ]
  },
  {
   "cell_type": "markdown",
   "id": "abe056e3",
   "metadata": {},
   "source": [
    "We know how to draw this graph:"
   ]
  },
  {
   "cell_type": "code",
   "execution_count": 86,
   "id": "512075ca",
   "metadata": {},
   "outputs": [
    {
     "data": {
      "image/png": "[encoded data removed]",
      "text/plain": [
       "<Figure size 432x288 with 1 Axes>"
      ]
     },
     "metadata": {},
     "output_type": "display_data"
    }
   ],
   "source": [
    "nx.draw(SG, node_size=2000, node_color='lightblue', with_labels=True)"
   ]
  },
  {
   "cell_type": "markdown",
   "id": "82383ad6",
   "metadata": {},
   "source": [
    "And we know how to get information such as the number of friends linked from a node:"
   ]
  },
  {
   "cell_type": "code",
   "execution_count": 87,
   "id": "7b3b2508",
   "metadata": {},
   "outputs": [
    {
     "data": {
      "text/plain": [
       "3"
      ]
     },
     "execution_count": 87,
     "metadata": {},
     "output_type": "execute_result"
    }
   ],
   "source": [
    "SG.degree('Alice')"
   ]
  },
  {
   "cell_type": "markdown",
   "id": "4695ba65",
   "metadata": {},
   "source": [
    "# Directed graphs\n",
    "\n",
    "Unless otherwise specified, we assume graph edges are undirected -- they are symmetric and go both ways. But some relationships, e.g. predator-prey relationships, are asymmetric and best represented as directed graphs. NetworkX provides the `DiGraph` class for directed graphs."
   ]
  },
  {
   "cell_type": "code",
   "execution_count": 91,
   "id": "d1981a4c",
   "metadata": {},
   "outputs": [
    {
     "data": {
      "image/png": "[encoded data removed]",
      "text/plain": [
       "<Figure size 432x288 with 1 Axes>"
      ]
     },
     "metadata": {},
     "output_type": "display_data"
    }
   ],
   "source": [
    "D = nx.DiGraph()\n",
    "\n",
    "D.add_edges_from([(1,2),(2,3),(3,2),(3,4),(3,5),(4,5),(4,6),(5,6),(6,4),(4,2)])\n",
    "\n",
    "nx.draw(D, with_labels=True)"
   ]
  },
  {
   "cell_type": "markdown",
   "id": "03c21ae8",
   "metadata": {},
   "source": [
    "Note the asymmetry in graph methods dealing with edges such as `has_edge()`:"
   ]
  },
  {
   "cell_type": "code",
   "execution_count": 92,
   "id": "5cce6428",
   "metadata": {},
   "outputs": [
    {
     "data": {
      "text/plain": [
       "True"
      ]
     },
     "execution_count": 92,
     "metadata": {},
     "output_type": "execute_result"
    }
   ],
   "source": [
    "D.has_edge(1,2)"
   ]
  },
  {
   "cell_type": "code",
   "execution_count": 93,
   "id": "e82da860",
   "metadata": {},
   "outputs": [
    {
     "data": {
      "text/plain": [
       "False"
      ]
     },
     "execution_count": 93,
     "metadata": {},
     "output_type": "execute_result"
    }
   ],
   "source": [
    "D.has_edge(2,1)"
   ]
  },
  {
   "cell_type": "markdown",
   "id": "d7bc12ab",
   "metadata": {},
   "source": [
    "Instead of the symmetric relationship \"neighbors\", nodes in directed graphs have predecessors (\"in-neighbors\") and successors (\"out-neighbors\"):"
   ]
  },
  {
   "cell_type": "code",
   "execution_count": 94,
   "id": "b5d8cffe",
   "metadata": {},
   "outputs": [
    {
     "name": "stdout",
     "output_type": "stream",
     "text": [
      "Successors of 2: [3]\n",
      "Predecessors of 2: [1, 3, 4]\n"
     ]
    }
   ],
   "source": [
    "print('Successors of 2:', list(D.successors(2)))\n",
    "\n",
    "print('Predecessors of 2:', list(D.predecessors(2)))"
   ]
  },
  {
   "cell_type": "markdown",
   "id": "ea49ef0c",
   "metadata": {},
   "source": [
    "Directed graphs have in-degree and out-degree, giving the number of edges pointing to and from the given node, respectively:"
   ]
  },
  {
   "cell_type": "code",
   "execution_count": 95,
   "id": "6f005bbf",
   "metadata": {},
   "outputs": [
    {
     "data": {
      "text/plain": [
       "3"
      ]
     },
     "execution_count": 95,
     "metadata": {},
     "output_type": "execute_result"
    }
   ],
   "source": [
    "D.in_degree(2)"
   ]
  },
  {
   "cell_type": "code",
   "execution_count": 96,
   "id": "5f36a7ec",
   "metadata": {},
   "outputs": [
    {
     "data": {
      "text/plain": [
       "1"
      ]
     },
     "execution_count": 96,
     "metadata": {},
     "output_type": "execute_result"
    }
   ],
   "source": [
    "D.out_degree(2)"
   ]
  },
  {
   "cell_type": "markdown",
   "id": "1ee5b54f",
   "metadata": {
    "collapsed": true,
    "jupyter": {
     "outputs_hidden": true
    }
   },
   "source": [
    "# Create a network from Reddit data"
   ]
  },
  {
   "cell_type": "code",
   "execution_count": 99,
   "id": "8a4783c5",
   "metadata": {},
   "outputs": [],
   "source": [
    "import os\n",
    "import praw\n",
    "import json"
   ]
  },
  {
   "cell_type": "code",
   "execution_count": 100,
   "id": "2924e0be-0ed1-4c37-b502-23dfd8c147a2",
   "metadata": {},
   "outputs": [
    {
     "data": {
      "text/plain": [
       "'/home/sukayna/Drive/PhD/courses/sds_komex_tutorial/tutorials/day4'"
      ]
     },
     "execution_count": 100,
     "metadata": {},
     "output_type": "execute_result"
    }
   ],
   "source": [
    "os.getcwd()"
   ]
  },
  {
   "cell_type": "code",
   "execution_count": 104,
   "id": "455a704a",
   "metadata": {},
   "outputs": [],
   "source": [
    "with open(r\"/home/sukayna/Drive/PhD/my_vault/api_keys/reddit_keys.json\") as f: # replace with the path to your keys\n",
    "    reddit_config = json.load(f)"
   ]
  },
  {
   "cell_type": "code",
   "execution_count": 105,
   "id": "9d9e0708",
   "metadata": {},
   "outputs": [],
   "source": [
    "reddit = praw.Reddit(\n",
    "    client_id=reddit_config['client_id'],\n",
    "    client_secret=reddit_config['client_secret'],\n",
    "    user_agent=reddit_config['user_agent']\n",
    ")"
   ]
  },
  {
   "cell_type": "markdown",
   "id": "3ccfff24",
   "metadata": {},
   "source": [
    "We'll construct a network graph based on user interactions. We'll create nodes for each user and edges between users who have replied to each other:"
   ]
  },
  {
   "cell_type": "code",
   "execution_count": 153,
   "id": "b92359db",
   "metadata": {},
   "outputs": [],
   "source": [
    "subreddit = reddit.subreddit(\"harvard\") # let's pick a smallish subreddit\n",
    "comments = subreddit.comments(limit=20)  # Fetching 20 comments from different posts"
   ]
  },
  {
   "cell_type": "code",
   "execution_count": 154,
   "id": "03031dd5",
   "metadata": {},
   "outputs": [],
   "source": [
    "G = nx.DiGraph()\n",
    "\n",
    "for comment in comments:\n",
    "    parent_author = comment.parent().author\n",
    "    if parent_author:\n",
    "        G.add_edge(comment.author.name, parent_author.name) # note the direction. The arrow points to the parent"
   ]
  },
  {
   "cell_type": "code",
   "execution_count": 156,
   "id": "282ccb3a",
   "metadata": {},
   "outputs": [
    {
     "data": {
      "image/png": "[encoded data removed]",
      "text/plain": [
       "<Figure size 432x288 with 1 Axes>"
      ]
     },
     "metadata": {},
     "output_type": "display_data"
    }
   ],
   "source": [
    "# let's visuaize it\n",
    "nx.draw(G, with_labels=True, node_size=100, node_color='skyblue', font_size=8)"
   ]
  },
  {
   "cell_type": "markdown",
   "id": "529f0c53",
   "metadata": {},
   "source": [
    "### Constructing all comments on one particular post "
   ]
  },
  {
   "cell_type": "code",
   "execution_count": 152,
   "id": "917c902b",
   "metadata": {},
   "outputs": [
    {
     "data": {
      "text/plain": [
       "'https://www.reddit.com/r/Harvard/comments/ilf8g1/syracuse_coach_jim_boeheim_calls_ivy_league_silly/'"
      ]
     },
     "execution_count": 152,
     "metadata": {},
     "output_type": "execute_result"
    }
   ],
   "source": [
    "# multi-hop data collection\n",
    "posts = list(reddit.subreddit('harvard').search('COVID-19', limit=5))\n",
    "link = posts[0].permalink\n",
    "submission = reddit.submission(url='https://www.reddit.com' + link)\n",
    "'https://www.reddit.com' + link"
   ]
  },
  {
   "cell_type": "code",
   "execution_count": 157,
   "id": "edfd9d1a",
   "metadata": {},
   "outputs": [
    {
     "data": {
      "text/plain": [
       "2"
      ]
     },
     "execution_count": 157,
     "metadata": {},
     "output_type": "execute_result"
    }
   ],
   "source": [
    "# Fetch all comments and replace more if there are any\n",
    "submission.comments.replace_more(limit=None)\n",
    "len(submission.comments)"
   ]
  },
  {
   "cell_type": "code",
   "execution_count": 158,
   "id": "07b5faf4",
   "metadata": {},
   "outputs": [
    {
     "data": {
      "text/plain": [
       "\"Sorry they're trying to keep your son and everyone else alive, Jim\""
      ]
     },
     "execution_count": 158,
     "metadata": {},
     "output_type": "execute_result"
    }
   ],
   "source": [
    "submission.comments.list()[0].body"
   ]
  },
  {
   "cell_type": "code",
   "execution_count": 159,
   "id": "a00bbee3",
   "metadata": {},
   "outputs": [
    {
     "data": {
      "text/plain": [
       "Redditor(name='pinkstardust007')"
      ]
     },
     "execution_count": 159,
     "metadata": {},
     "output_type": "execute_result"
    }
   ],
   "source": [
    "submission.comments.list()[0].author"
   ]
  },
  {
   "cell_type": "code",
   "execution_count": 160,
   "id": "7d842376",
   "metadata": {},
   "outputs": [
    {
     "data": {
      "text/plain": [
       "Redditor(name='StandTall29')"
      ]
     },
     "execution_count": 160,
     "metadata": {},
     "output_type": "execute_result"
    }
   ],
   "source": [
    "# get the parent comment\n",
    "submission.comments.list()[0].parent().author"
   ]
  },
  {
   "cell_type": "code",
   "execution_count": 161,
   "id": "c085b657",
   "metadata": {},
   "outputs": [],
   "source": [
    "G = nx.DiGraph()"
   ]
  },
  {
   "cell_type": "code",
   "execution_count": 162,
   "id": "c7012fa7",
   "metadata": {},
   "outputs": [],
   "source": [
    "# Iterate through all comments\n",
    "for comment in submission.comments.list()[:1]: # the [:1] that we only look at the first comment's thread\n",
    "    # Get the author of the comment\n",
    "    commenter = comment.author\n",
    "    if commenter:\n",
    "        # Add the commenter as a node to the graph\n",
    "        G.add_node(commenter.name)\n",
    "        \n",
    "        # Get the parent comment (if any) and add an edge between the parent commenter and the current commenter\n",
    "        parent_comment = comment.parent()\n",
    "        if parent_comment.author:\n",
    "            parent_commenter = parent_comment.author.name\n",
    "            G.add_edge(commenter.name, parent_commenter)"
   ]
  },
  {
   "cell_type": "code",
   "execution_count": 163,
   "id": "6d8bc305",
   "metadata": {},
   "outputs": [
    {
     "data": {
      "image/png": "[encoded data removed]",
      "text/plain": [
       "<Figure size 432x288 with 1 Axes>"
      ]
     },
     "metadata": {},
     "output_type": "display_data"
    }
   ],
   "source": [
    "nx.draw(G, with_labels = True)"
   ]
  },
  {
   "cell_type": "markdown",
   "id": "b8776084",
   "metadata": {},
   "source": [
    "Let's try more than one comment now."
   ]
  },
  {
   "cell_type": "code",
   "execution_count": 182,
   "id": "7867f2f6",
   "metadata": {},
   "outputs": [],
   "source": [
    "G = nx.DiGraph()"
   ]
  },
  {
   "cell_type": "code",
   "execution_count": 183,
   "id": "f695398a",
   "metadata": {},
   "outputs": [],
   "source": [
    "# Fetch all comments and replace more if there are any\n",
    "submission.comments.replace_more(limit=None)\n",
    "\n",
    "# Iterate through all comments\n",
    "for comment in submission.comments.list(): # now let's look at the first 5 comments in the post\n",
    "    # Get the author of the comment\n",
    "    commenter = comment.author\n",
    "    if commenter:\n",
    "        # Add the commenter as a node to the graph\n",
    "        G.add_node(commenter.name)\n",
    "        \n",
    "        # Get the parent comment (if any) and add an edge between the parent commenter and the current commenter\n",
    "        parent_comment = comment.parent()\n",
    "        if parent_comment.author:\n",
    "            parent_commenter = parent_comment.author.name\n",
    "            G.add_edge(commenter.name, parent_commenter)"
   ]
  },
  {
   "cell_type": "code",
   "execution_count": 184,
   "id": "f9b9c588",
   "metadata": {},
   "outputs": [
    {
     "data": {
      "image/png": "[encoded data removed]",
      "text/plain": [
       "<Figure size 432x288 with 1 Axes>"
      ]
     },
     "metadata": {},
     "output_type": "display_data"
    }
   ],
   "source": [
    "nx.draw(G)"
   ]
  },
  {
   "cell_type": "code",
   "execution_count": 185,
   "id": "4de64108",
   "metadata": {},
   "outputs": [
    {
     "data": {
      "text/plain": [
       "(8, 17)"
      ]
     },
     "execution_count": 185,
     "metadata": {},
     "output_type": "execute_result"
    }
   ],
   "source": [
    "len(G.nodes()), len(G.edges())"
   ]
  },
  {
   "cell_type": "code",
   "execution_count": 207,
   "id": "dcc05fe1",
   "metadata": {},
   "outputs": [],
   "source": [
    "# let's check the isolated nodes\n",
    "for node in G.nodes():\n",
    "    if G.out_degree(node) == 0 and G.in_degree(node) == 0:\n",
    "        print(node)\n",
    "\n",
    "# note: for harvard case, none but for cornell where more"
   ]
  },
  {
   "cell_type": "code",
   "execution_count": 189,
   "id": "b6ef2f7d",
   "metadata": {},
   "outputs": [
    {
     "name": "stdout",
     "output_type": "stream",
     "text": [
      "https://www.reddit.com/r/Harvard/comments/ilf8g1/syracuse_coach_jim_boeheim_calls_ivy_league_silly/\n",
      "https://www.reddit.com/r/Harvard/comments/ilf8g1/syracuse_coach_jim_boeheim_calls_ivy_league_silly/g3ro85v/\n"
     ]
    }
   ],
   "source": [
    "for comment in submission.comments.list():\n",
    "    if comment.author == 'pinkstardust007':\n",
    "        print('https://www.reddit.com' + comment.parent().permalink)"
   ]
  },
  {
   "cell_type": "code",
   "execution_count": 190,
   "id": "6dfa7610",
   "metadata": {},
   "outputs": [
    {
     "data": {
      "text/plain": [
       "8"
      ]
     },
     "execution_count": 190,
     "metadata": {},
     "output_type": "execute_result"
    }
   ],
   "source": [
    "# let's only keep 'active' commenters or people have at least 2 comments\n",
    "outdeg = dict(G.out_degree())\n",
    "len(outdeg)"
   ]
  },
  {
   "cell_type": "code",
   "execution_count": 191,
   "id": "7f585a13",
   "metadata": {},
   "outputs": [
    {
     "data": {
      "text/plain": [
       "2"
      ]
     },
     "execution_count": 191,
     "metadata": {},
     "output_type": "execute_result"
    }
   ],
   "source": [
    "to_remove = [n for n in outdeg if outdeg[n] < 2] # nodes to be removed\n",
    "len(to_remove)"
   ]
  },
  {
   "cell_type": "code",
   "execution_count": 192,
   "id": "a4476e31",
   "metadata": {},
   "outputs": [],
   "source": [
    "# now remove these\n",
    "G.remove_nodes_from(to_remove)"
   ]
  },
  {
   "cell_type": "code",
   "execution_count": 193,
   "id": "cdde6153",
   "metadata": {},
   "outputs": [
    {
     "data": {
      "image/png": "[encoded data removed]",
      "text/plain": [
       "<Figure size 432x288 with 1 Axes>"
      ]
     },
     "metadata": {},
     "output_type": "display_data"
    }
   ],
   "source": [
    "nx.draw(G, with_labels = True)"
   ]
  },
  {
   "cell_type": "markdown",
   "id": "05861e41",
   "metadata": {},
   "source": [
    "# Data Formats in NetworkX\n",
    "\n",
    "NetworkX is quite versatily in terms of the data formats for reading and writing graphs. YOu can find out more here: https://networkx.org/documentation/stable/reference/readwrite/index.html\n",
    "\n",
    "We will look at the following:\n",
    "- json\n",
    "- adjlist\n",
    "- gfx"
   ]
  },
  {
   "cell_type": "markdown",
   "id": "c25e844b",
   "metadata": {},
   "source": [
    "### JSON"
   ]
  },
  {
   "cell_type": "code",
   "execution_count": 196,
   "id": "96b680be",
   "metadata": {},
   "outputs": [],
   "source": [
    "# save\n",
    "json.dump(dict(nodes=[n for n in G.nodes()],\n",
    "                   edges=[[u, v] for u,v in G.edges()]),\n",
    "     open('harvard_comments.json', 'w'), indent=2)"
   ]
  },
  {
   "cell_type": "code",
   "execution_count": 197,
   "id": "45f2774c",
   "metadata": {},
   "outputs": [],
   "source": [
    "# load\n",
    "G = nx.DiGraph()\n",
    "d = json.load(open('harvard_comments.json'))\n",
    "G.add_nodes_from(d['nodes'])\n",
    "G.add_edges_from(d['edges'])"
   ]
  },
  {
   "cell_type": "code",
   "execution_count": 198,
   "id": "181c27f4",
   "metadata": {},
   "outputs": [
    {
     "data": {
      "image/png": "[encoded data removed]",
      "text/plain": [
       "<Figure size 432x288 with 1 Axes>"
      ]
     },
     "metadata": {},
     "output_type": "display_data"
    }
   ],
   "source": [
    "nx.draw(G, with_labels = True)"
   ]
  },
  {
   "cell_type": "markdown",
   "id": "a30182a7",
   "metadata": {},
   "source": [
    "### Adjlist"
   ]
  },
  {
   "cell_type": "code",
   "execution_count": 199,
   "id": "e1bd2da5",
   "metadata": {},
   "outputs": [],
   "source": [
    "# write\n",
    "nx.write_adjlist(G, \"harvard_comments.adjlist\")"
   ]
  },
  {
   "cell_type": "code",
   "execution_count": 200,
   "id": "8aa6cf21",
   "metadata": {},
   "outputs": [],
   "source": [
    "# read\n",
    "G = nx.read_adjlist(\"harvard_comments.adjlist\") # this is undirected"
   ]
  },
  {
   "cell_type": "code",
   "execution_count": 201,
   "id": "5b37b089",
   "metadata": {},
   "outputs": [
    {
     "data": {
      "image/png": "[encoded data removed]",
      "text/plain": [
       "<Figure size 432x288 with 1 Axes>"
      ]
     },
     "metadata": {},
     "output_type": "display_data"
    }
   ],
   "source": [
    "nx.draw(G, with_labels = True)"
   ]
  },
  {
   "cell_type": "code",
   "execution_count": 202,
   "id": "d7a9502c",
   "metadata": {},
   "outputs": [
    {
     "data": {
      "image/png": "[encoded data removed]",
      "text/plain": [
       "<Figure size 432x288 with 1 Axes>"
      ]
     },
     "metadata": {},
     "output_type": "display_data"
    }
   ],
   "source": [
    "# read\n",
    "G = nx.read_adjlist(\"harvard_comments.adjlist\", create_using=nx.DiGraph()) # this is directed\n",
    "nx.draw(G, with_labels = True)"
   ]
  },
  {
   "cell_type": "markdown",
   "id": "ab5486a7",
   "metadata": {},
   "source": [
    "### GEXF\n",
    "\n",
    "GEXF (Graph Exchange XML Format) is a language for describing complex networks structures, their associated data and dynamics. read more about it here: http://gexf.net/"
   ]
  },
  {
   "cell_type": "code",
   "execution_count": 203,
   "id": "16df61d8",
   "metadata": {},
   "outputs": [],
   "source": [
    "# write\n",
    "nx.write_gexf(G, \"harvard_comments.gexf\")"
   ]
  },
  {
   "cell_type": "code",
   "execution_count": 204,
   "id": "1c2e9175",
   "metadata": {},
   "outputs": [
    {
     "data": {
      "image/png": "[encoded data removed]",
      "text/plain": [
       "<Figure size 432x288 with 1 Axes>"
      ]
     },
     "metadata": {},
     "output_type": "display_data"
    }
   ],
   "source": [
    "# read\n",
    "G = nx.read_gexf(\"harvard_comments.gexf\")\n",
    "nx.draw(G, with_labels = True)"
   ]
  },
  {
   "cell_type": "code",
   "execution_count": 205,
   "id": "3773f25d-285f-4a2a-b323-d5b8fce71c85",
   "metadata": {},
   "outputs": [],
   "source": [
    "# END OF CODE"
   ]
  },
  {
   "cell_type": "markdown",
   "id": "ac403f7a-842d-43fd-93c9-27c28beb1a24",
   "metadata": {},
   "source": [
    "### Notes\n",
    "Solutions for dealing with isolates in social media data which might be replies to deleted users: If you want to save the data from current to future then you can run a webscrawler on the data at frequent intervals (hourly/daily) to store data that might be prone to deletion"
   ]
  }
 ],
 "metadata": {
  "kernelspec": {
   "display_name": "Python 3 (ipykernel)",
   "language": "python",
   "name": "python3"
  },
  "language_info": {
   "codemirror_mode": {
    "name": "ipython",
    "version": 3
   },
   "file_extension": ".py",
   "mimetype": "text/x-python",
   "name": "python",
   "nbconvert_exporter": "python",
   "pygments_lexer": "ipython3",
   "version": "3.10.12"
  }
 },
 "nbformat": 4,
 "nbformat_minor": 5
}
