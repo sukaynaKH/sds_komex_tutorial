


# ! pip install networkx


import networkx as nx
get_ipython().run_line_magic("matplotlib", " inline")





# a "plain" graph is undirected
G = nx.Graph()

# give each a node a 'name', which is a letter in this case.
G.add_node('a')

# the add_nodes_from method allows adding nodes from a sequence, in this case a list
nodes_to_add = ['b', 'c', 'd']
G.add_nodes_from(nodes_to_add)

# add edge from 'a' to 'b'
# since this graph is undirected, the order doesn't matter here
G.add_edge('a', 'b')

# just like add_nodes_from, we can add edges from a sequence
# edges should be specified as 2-tuples
edges_to_add = [('a', 'c'), ('b', 'c'), ('c', 'd')]
G.add_edges_from(edges_to_add)

# draw the graph
nx.draw(G, with_labels=True)





nx.draw(G,
        with_labels=True,
        node_color='blue',
        node_size=1600,
        font_color='white',
        font_size=16,
        )





# List all of the nodes
G.nodes()


# List all of the edges
G.edges()





for node in G.nodes:
    print(node)


for edge in G.edges:
    print(edge)





G.number_of_nodes()


G.number_of_edges()





# list of neighbors of node 'b'
G.neighbors('b')





for neighbor in G.neighbors('b'):
    print(neighbor)





list(G.neighbors('b'))





nx.is_tree(G)


nx.is_connected(G)





G.has_node('a')


G.has_node('x')





'd' in G.nodes





G.has_edge('a', 'b')


G.has_edge('a', 'd')


('c', 'd') in G.edges





len(list(G.neighbors('a')))





G.degree('a')





def get_leaves(G):
    # enter your code here
    pass


G = nx.Graph()
G.add_edges_from([
        ('a', 'b'),
        ('a', 'd'),
        ('c', 'd'),
    ])

get_leaves(G)


nx.draw(G)





G = nx.Graph()

G.add_nodes_from(['cat','dog','virus',13])

G.add_edge('cat','dog')

nx.draw(G, with_labels=True, font_color='white', node_size=1000)





print(open('datasets/friends.adjlist').read())





SG = nx.read_adjlist('datasets/friends.adjlist')





nx.draw(SG, node_size=2000, node_color='lightblue', with_labels=True)





SG.degree('Alice')





D = nx.DiGraph()

D.add_edges_from([(1,2),(2,3),(3,2),(3,4),(3,5),(4,5),(4,6),(5,6),(6,4),(4,2)])

nx.draw(D, with_labels=True)





D.has_edge(1,2)


D.has_edge(2,1)





print('Successors of 2:', list(D.successors(2)))

print('Predecessors of 2:', list(D.predecessors(2)))





D.in_degree(2)


D.out_degree(2)





import praw
import json


with open(r"C:\Users\isen1\OneDrive\Desktop\reddit_keys.json") as f: # replace with the path to your keys
    reddit_config = json.load(f)


reddit = praw.Reddit(
    client_id=reddit_config['client_id'],
    client_secret=reddit_config['client_secret'],
    user_agent=reddit_config['user_agent']
)





subreddit = reddit.subreddit("cornell") # let's pick a smallish subreddit
comments = subreddit.comments(limit=20)  # Fetching 20 comments from different posts


G = nx.DiGraph()

for comment in comments:
    parent_author = comment.parent().author
    if parent_author:
        G.add_edge(comment.author.name, parent_author.name) # note the direction. The arrow points to the parent


# let's visuaize it
nx.draw(G, with_labels=True, node_size=100, node_color='skyblue', font_size=8)





posts = list(reddit.subreddit('cornell').search('COVID-19', limit=5))
link = posts[0].permalink
submission = reddit.submission(url='https://www.reddit.com' + link)
'https://www.reddit.com' + link


# Fetch all comments and replace more if there are any
submission.comments.replace_more(limit=None)
len(submission.comments)


submission.comments.list()[0].body


submission.comments.list()[0].author


# get the parent comment
submission.comments.list()[0].parent().author


G = nx.DiGraph()


# Iterate through all comments
for comment in submission.comments.list()[:1]: # the [:1] that we only look at the first comment's thread
    # Get the author of the comment
    commenter = comment.author
    if commenter:
        # Add the commenter as a node to the graph
        G.add_node(commenter.name)
        
        # Get the parent comment (if any) and add an edge between the parent commenter and the current commenter
        parent_comment = comment.parent()
        if parent_comment.author:
            parent_commenter = parent_comment.author.name
            G.add_edge(commenter.name, parent_commenter)


nx.draw(G, with_labels = True)





G = nx.DiGraph()


# Fetch all comments and replace more if there are any
submission.comments.replace_more(limit=None)

# Iterate through all comments
for comment in submission.comments.list(): # now let's look at the first 5 comments in the post
    # Get the author of the comment
    commenter = comment.author
    if commenter:
        # Add the commenter as a node to the graph
        G.add_node(commenter.name)
        
        # Get the parent comment (if any) and add an edge between the parent commenter and the current commenter
        parent_comment = comment.parent()
        if parent_comment.author:
            parent_commenter = parent_comment.author.name
            G.add_edge(commenter.name, parent_commenter)


nx.draw(G)


len(G.nodes()), len(G.edges())


# let's check the isolated nodes
for node in G.nodes():
    if G.out_degree(node) == 0 and G.in_degree(node) == 0:
        print(node)


for comment in submission.comments.list():
    if comment.author == 'goodshrek1':
        print('https://www.reddit.com' + comment.parent().permalink)


# let's only keep 'active' commenters or people have at leats 5 comments
outdeg = dict(G.out_degree())
len(outdeg)


to_remove = [n for n in outdeg if outdeg[n] < 5] # nodes to be removed
len(to_remove)


# now remove these
G.remove_nodes_from(to_remove)


nx.draw(G, with_labels = True)








# save
json.dump(dict(nodes=[n for n in G.nodes()],
                   edges=[[u, v] for u,v in G.edges()]),
     open('cornell_comments.json', 'w'), indent=2)


# load
G = nx.DiGraph()
d = json.load(open('cornell_comments.json'))
G.add_nodes_from(d['nodes'])
G.add_edges_from(d['edges'])


nx.draw(G, with_labels = True)





# write
nx.write_adjlist(G, "cornell_comments.adjlist")


# read
G = nx.read_adjlist("cornell_comments.adjlist") # this is undirected


nx.draw(G, with_labels = True)


# read
G = nx.read_adjlist("cornell_comments.adjlist", create_using=nx.DiGraph()) # this is directed
nx.draw(G, with_labels = True)





# write
nx.write_gexf(G, "cornell_comments.gexf")


# read
G = nx.read_gexf("cornell_comments.gexf")
nx.draw(G, with_labels = True)



