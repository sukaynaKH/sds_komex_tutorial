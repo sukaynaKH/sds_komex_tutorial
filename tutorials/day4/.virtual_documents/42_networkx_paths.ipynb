


import networkx as nx
get_ipython().run_line_magic("matplotlib", " inline")








G = nx.Graph()

G.add_nodes_from([1,2,3,4])

G.add_edges_from([(1,2),(2,3),(1,3),(1,4)])

nx.draw(G, with_labels=True)





nx.has_path(G, 3, 4)





list(nx.all_simple_paths(G, 3, 4))





nx.shortest_path(G, 3, 4)





nx.shortest_path_length(G, 3, 4)








nx.is_connected(G)





G = nx.Graph()

nx.add_cycle(G, (1,2,3))
G.add_edge(4,5)

nx.draw(G, with_labels=True)


nx.is_connected(G)





nx.has_path(G, 3, 5)


nx.shortest_path(G, 3, 5)





nx.number_connected_components(G)





list(nx.connected_components(G))





components = list(nx.connected_components(G))
len(components[0])





max(nx.connected_components(G), key=len)





core_nodes = max(nx.connected_components(G), key=len)
core = G.subgraph(core_nodes)

nx.draw(core, with_labels=True)








D = nx.DiGraph()
D.add_edges_from([
    (1,2),
    (2,3),
    (3,2), (3,4), (3,5),
    (4,2), (4,5), (4,6),
    (5,6),
    (6,4),
])
nx.draw(D, with_labels=True)





nx.has_path(D, 1, 4)


nx.has_path(D, 4, 1)





nx.shortest_path(D, 2, 5)


nx.shortest_path(D, 5, 2)








import pandas as pd
asoiaf_data = 'https://raw.githubusercontent.com/mathbeveridge/asoiaf/master/data/asoiaf-all-edges.csv'
df = pd.read_csv(asoiaf_data)

# Create a graph
G = nx.from_pandas_edgelist(df, 'Source', 'Target')
print('Number of nodes', len(G.nodes))
print('Number of edges', len(G.edges))
print('Average degree', sum(dict(G.degree).values()) / len(G.nodes))
nx.draw(G)





list(G.edges)[0:5]








highest_degree_node = max(G.nodes, key=G.degree)
highest_degree_node


G.degree(highest_degree_node)








betweenness = nx.centrality.betweenness_centrality(G)
highest_betweenness_node = max(G.nodes, key=betweenness.get)
highest_betweenness_node


betweenness[highest_betweenness_node]





degree_sequence = [G.degree(n) for n in G.nodes]





import statistics

print('Mean degree:', statistics.mean(degree_sequence))
print('Median degree:', statistics.median(degree_sequence))





betweenness = nx.centrality.betweenness_centrality(G)
betweenness_sequence = list(betweenness.values())

print('Mean betweenness:', statistics.mean(betweenness_sequence))
print('Median betweenness:', statistics.median(betweenness_sequence))





from collections import Counter

degree_counts = Counter(degree_sequence)
degree_counts





min_degree, max_degree = min(degree_counts.keys()), max(degree_counts.keys())

plot_x = list(range(min_degree, max_degree + 1))





plot_y = [degree_counts.get(x, 0) for x in plot_x]





import matplotlib.pyplot as plt

plt.bar(plot_x, plot_y)








betweenness


hubs = [n for n in G.nodes if betweenness[n] > 0.1] # this is an arbitrary threshold


node_colors = ['skyblue' if n in hubs else 'pink' for n in G.nodes]
        
nx.draw(G, node_color=node_colors, node_size = 10)





hub_labels = {} # dictionary with keys as nodes and values as nodes as well   
node_sizes = [] # list of sizes

for node in G.nodes():
    if node in hubs:
        hub_labels[node] = '\n'.join(str(node).split('-'))
        node_sizes.append(500)
    else:
        hub_labels[node] = '' # set to a blank label if not a hub
        node_sizes.append(10)

nx.draw(G, with_labels = True, labels = hub_labels,
        width = 0.01, # make the edges lighter
        node_color = node_colors, node_size = node_sizes,
        font_color='blue', font_size = 10)






