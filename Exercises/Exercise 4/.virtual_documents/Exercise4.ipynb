








! pip install pandas
! pip install numpy
! pip install matplotlib
! pip install networkx





import pandas as pd
import networkx as nx
import matplotlib.pyplot as plt
import json











import gzip


swiss_tweets = []

with gzip.open('SwissPoliticians-tweets.json.gz', 'rt', encoding='utf-8') as file:
    for line in file:
        result = json.loads(line)
        swiss_tweets.append(result)


swiss_tweets[0]














user_id = swiss_tweets[0]['user']['id_str']
user_id


edge_list = []

for user in swiss_tweets:
    try:
        user_id = user['user']['id_str']  # Accessing current tweet's user ID
        if 'retweeted_status' in user:  # Check if retweeted_status exists
            retweet_ids = user['retweeted_status']['user']['id_str']
        else:
            retweet_ids = None
    except KeyError:
        retweet_ids = None

    edge_list.append({'user_id': user_id, 'retweet_ids': retweet_ids})



edge_list[0]





tweets_df = pd.json_normalize(edge_list)


tweets_df








users = pd.read_csv("users.csv")
users.columns


users.head(2)





nodes = [(str(row.id), {'username': row.screenName, 'party':row.party}) for row in users.itertuples(index=False)]


nodes[0]


# # uglier way
# node_list = []
# for row in users.itertuples(index=False):
#     node_list.append((row[1], {'username': row.screenName, 'party':row.party}))

# print(node_list[0:3])








pol_ids = [str(x[0]) for x in nodes]
pol_ids[0]


tweets_dfnew = tweets_df[tweets_df['retweet_ids'].isin(pol_ids) == True]


len(tweets_df)


len(tweets_dfnew)
tweets_dfnew.head()





edges = [(row.user_id, row.retweet_ids) for row in tweets_dfnew.itertuples(index=False)]
edges[0]





edges=list(set(edges))





edges[0] # doing this later
#G.remove_edges_from(nx.selfloop_edges(G))





G = nx.Graph()
G.add_nodes_from(nodes)
G.add_edges_from(edges)


G.remove_edges_from(nx.selfloop_edges(G))





nx.write_gexf(G, "swiss_tweets.gexf", encoding='utf-8',)





nx.draw(G, with_labels=False, node_size=2, width=1)





# Get unique parties from the nodes
unique_parties = set(node[1]['party'] for node in nodes)
print(unique_parties)


import matplotlib.colors as mcolors
colors = list(mcolors.XKCD_COLORS.values())[:11]
print(colors)


party_colors = {party: colors[i % len(colors)] for i, party in enumerate(unique_parties)}


party_colors





# Iterate over each node in the graph
for node in G.nodes:
    # Get the party attribute for the current node
    party = nx.get_node_attributes(G, "party")
    # Get the corresponding color from the party_colors dictionary, defaulting to 'red' if not found
    color = party_colors.get(party, 'red')
    # Set the 'color' attribute for the current node
    nx.set_node_attributes(G, {node: color}, name='color')


# older, maybe problematic function
node_colors = []

for node in G.nodes:
    if nx.get_node_attributes(G, 'party') == 'AL':
        node_colors.append("blue")
    else: 
        node_colors.append("pink")


nx.draw(G, node_color=node_colors, node_size = 2)


# remove isolates
list(nx.isolates(G))
G.remove_nodes_from(list(nx.isolates(G)))


nx.draw(G, node_size = 2)



