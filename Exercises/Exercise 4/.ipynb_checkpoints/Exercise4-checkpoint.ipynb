{
 "cells": [
  {
   "cell_type": "markdown",
   "id": "1004d8b9",
   "metadata": {},
   "source": [
    "<div style=\"text-align: center;\" >\n",
    "<h1 style=\"margin-top: 0.2em; margin-bottom: 0.1em;\">Assignment 4</h1>\n",
    "\n",
    "</div>\n",
    "<br>"
   ]
  },
  {
   "cell_type": "markdown",
   "id": "01196ea9-5dff-4279-b0a7-d9ea286e0c19",
   "metadata": {},
   "source": [
    "\n",
    "## Social Network of Swiss Politicians on Twitter Data\n",
    "In this assignment you will do the following tasks:\n",
    "1. Read a json of retweets\n",
    "2. Build a graph with this data\n",
    "3. Visualize the graph"
   ]
  },
  {
   "cell_type": "markdown",
   "id": "60aac7b3",
   "metadata": {},
   "source": [
    "### Install requirements. \n",
    "\n",
    "The following cell contains all the necessary dependencies needed for this task. If you run the cell everything will be installed.  \n",
    "\n",
    "* [`pandas`](https://pandas.pydata.org/docs/index.html) is a Python package for creating and working with tabular data. [Here](https://pandas.pydata.org/docs/reference/index.html) is the documentation of `pandas`.\n",
    "* [`numpy`](https://numpy.org/) is a Python package for mathematical functions. [Here](https://numpy.org/doc/stable/reference/index.html) is the documentation of `numpy`.\n",
    "* [`matplotlib`](https://matplotlib.org/) is a Python package for creating plots. [Here](https://matplotlib.org/stable/api/index.html) is the documentation of `matplotlib`.\n",
    "* [`networkx`](https://networkx.org/) is a Python package for the creation, manipulation, and study of the structure, dynamics, and functions of complex networks. [Here](https://networkx.org/documentation/stable/reference/index.html) is the documentation of `networkx`."
   ]
  },
  {
   "cell_type": "code",
   "execution_count": 1,
   "id": "234eb790-6def-45a2-b436-406eb1be62ff",
   "metadata": {},
   "outputs": [
    {
     "name": "stdout",
     "output_type": "stream",
     "text": [
      "Defaulting to user installation because normal site-packages is not writeable\n",
      "Looking in indexes: https://pypi.org/simple, https://packagecloud.io/github/git-lfs/pypi/simple\n",
      "Requirement already satisfied: pandas in /home/sukayna/.local/lib/python3.10/site-packages (2.0.3)\n",
      "Requirement already satisfied: python-dateutil>=2.8.2 in /home/sukayna/.local/lib/python3.10/site-packages (from pandas) (2.8.2)\n",
      "Requirement already satisfied: pytz>=2020.1 in /usr/lib/python3/dist-packages (from pandas) (2022.1)\n",
      "Requirement already satisfied: tzdata>=2022.1 in /home/sukayna/.local/lib/python3.10/site-packages (from pandas) (2023.3)\n",
      "Requirement already satisfied: numpy>=1.21.0 in /home/sukayna/.local/lib/python3.10/site-packages (from pandas) (1.24.1)\n",
      "Requirement already satisfied: six>=1.5 in /usr/lib/python3/dist-packages (from python-dateutil>=2.8.2->pandas) (1.16.0)\n",
      "Defaulting to user installation because normal site-packages is not writeable\n",
      "Looking in indexes: https://pypi.org/simple, https://packagecloud.io/github/git-lfs/pypi/simple\n",
      "Requirement already satisfied: numpy in /home/sukayna/.local/lib/python3.10/site-packages (1.24.1)\n",
      "Defaulting to user installation because normal site-packages is not writeable\n",
      "Looking in indexes: https://pypi.org/simple, https://packagecloud.io/github/git-lfs/pypi/simple\n",
      "Requirement already satisfied: matplotlib in /usr/lib/python3/dist-packages (3.5.1)\n",
      "Defaulting to user installation because normal site-packages is not writeable\n",
      "Looking in indexes: https://pypi.org/simple, https://packagecloud.io/github/git-lfs/pypi/simple\n",
      "Requirement already satisfied: networkx in /home/sukayna/.local/lib/python3.10/site-packages (3.2.1)\n"
     ]
    }
   ],
   "source": [
    "! pip install pandas\n",
    "! pip install numpy\n",
    "! pip install matplotlib\n",
    "! pip install networkx"
   ]
  },
  {
   "cell_type": "markdown",
   "id": "eebb2e59",
   "metadata": {},
   "source": [
    "### Import requirements\n",
    "The cell below imports all necessary dependancies. Make sure they are installed (see cell above)."
   ]
  },
  {
   "cell_type": "code",
   "execution_count": 2,
   "id": "6e909d35-ff4c-45fc-8642-c2be8d3850c6",
   "metadata": {},
   "outputs": [],
   "source": [
    "import pandas as pd\n",
    "import networkx as nx\n",
    "import matplotlib.pyplot as plt\n",
    "import json"
   ]
  },
  {
   "cell_type": "markdown",
   "id": "660c2bf5-29c6-451e-af54-893849528056",
   "metadata": {},
   "source": [
    "### Exercise 1: Load social networks of retweets"
   ]
  },
  {
   "cell_type": "markdown",
   "id": "9fa340f4",
   "metadata": {},
   "source": [
    "The attached `json` file contains tweet information about Swiss politicians. Since this is a very big dataset it is compressed so you should extract it first.\n",
    "First, load the json file using `json.loads()`. Note that you have to load each line separtly. \n",
    "\n"
   ]
  },
  {
   "cell_type": "markdown",
   "id": "fcc30002",
   "metadata": {},
   "source": [
    "Hint: You might want to do the following:\n",
    "* intialize a list to store the results\n",
    "* use `with open('file_name.json', 'r') as file:` to read the file \n",
    "* and then loop over every line in `file` loading the line with `json.loads()` and appending it to your list"
   ]
  },
  {
   "cell_type": "code",
   "execution_count": 3,
   "id": "68832440-aa86-4c11-9ae6-448df0f4fd07",
   "metadata": {},
   "outputs": [],
   "source": [
    "import gzip"
   ]
  },
  {
   "cell_type": "code",
   "execution_count": 4,
   "id": "83751ff5",
   "metadata": {},
   "outputs": [],
   "source": [
    "swiss_tweets = []\n",
    "\n",
    "with gzip.open('SwissPoliticians-tweets.json.gz', 'rt', encoding='utf-8') as file:\n",
    "    for line in file:\n",
    "        result = json.loads(line)\n",
    "        swiss_tweets.append(result)"
   ]
  },
  {
   "cell_type": "code",
   "execution_count": 5,
   "id": "5a92f062-0c5d-42c5-a695-0d41557fbf2e",
   "metadata": {
    "scrolled": true
   },
   "outputs": [
    {
     "data": {
      "text/plain": [
       "{'created_at': 'Sun Feb 05 13:54:19 +0000 2023',\n",
       " 'id': 1622232152543820000,\n",
       " 'id_str': '1622232152543821824',\n",
       " 'full_text': 'RT @rrolee_: @kugurtner @knoxens @spschweiz @FDP_Liberalen Und so vernünftig war die oft auch nicht. \\U0001fae3',\n",
       " 'truncated': False,\n",
       " 'display_text_range': [0, 102],\n",
       " 'entities': {'hashtags': [],\n",
       "  'symbols': [],\n",
       "  'user_mentions': [{'screen_name': 'rrolee_',\n",
       "    'name': 'Roland Hurschler 🥁',\n",
       "    'id': 1356324200395450000,\n",
       "    'id_str': '1356324200395452416',\n",
       "    'indices': [3, 11]},\n",
       "   {'screen_name': 'kugurtner',\n",
       "    'name': 'Kuno Gurtner',\n",
       "    'id': 270908119,\n",
       "    'id_str': '270908119',\n",
       "    'indices': [13, 23]},\n",
       "   {'screen_name': 'knoxens',\n",
       "    'name': 'Thomas with a K 🇪🇺🇺🇸💛💙',\n",
       "    'id': 48852835,\n",
       "    'id_str': '48852835',\n",
       "    'indices': [24, 32]},\n",
       "   {'screen_name': 'spschweiz',\n",
       "    'name': 'SP Schweiz',\n",
       "    'id': 40681558,\n",
       "    'id_str': '40681558',\n",
       "    'indices': [33, 43]},\n",
       "   {'screen_name': 'FDP_Liberalen',\n",
       "    'name': 'FDP Schweiz',\n",
       "    'id': 39250641,\n",
       "    'id_str': '39250641',\n",
       "    'indices': [44, 58]}],\n",
       "  'urls': [],\n",
       "  'media': {}},\n",
       " 'source': '<a href=\"http://twitter.com/download/iphone\" rel=\"nofollow\">Twitter for iPhone</a>',\n",
       " 'user': {'id': 25254764,\n",
       "  'id_str': '25254764',\n",
       "  'name': 'Andreas Kirstein',\n",
       "  'screen_name': 'andreaskirstein',\n",
       "  'location': 'Zürich',\n",
       "  'description': 'Gemeinderat @al_zuerich. Arbeitet in der @ETHBibliothek. Twittert privat. Immer radikal, niemals konsequent.',\n",
       "  'url': 'https://t.co/pbzTpZ2ztz',\n",
       "  'entities': {'url': {'urls': [{'url': 'https://t.co/pbzTpZ2ztz',\n",
       "      'expanded_url': 'http://www.kirstein.ch',\n",
       "      'display_url': 'kirstein.ch',\n",
       "      'indices': [0, 23]}]},\n",
       "   'description': {'urls': []}},\n",
       "  'protected': False,\n",
       "  'followers_count': 759,\n",
       "  'friends_count': 521,\n",
       "  'listed_count': 37,\n",
       "  'created_at': 'Thu Mar 19 07:21:05 +0000 2009',\n",
       "  'favourites_count': 24591,\n",
       "  'geo_enabled': True,\n",
       "  'verified': False,\n",
       "  'statuses_count': 14306,\n",
       "  'contributors_enabled': False,\n",
       "  'is_translator': False,\n",
       "  'is_translation_enabled': False,\n",
       "  'profile_background_color': 'EBEBEB',\n",
       "  'profile_background_image_url': 'http://abs.twimg.com/images/themes/theme7/bg.gif',\n",
       "  'profile_background_image_url_https': 'https://abs.twimg.com/images/themes/theme7/bg.gif',\n",
       "  'profile_background_tile': False,\n",
       "  'profile_image_url': 'http://pbs.twimg.com/profile_images/1493759501035454465/n7YEaIPp_normal.jpg',\n",
       "  'profile_image_url_https': 'https://pbs.twimg.com/profile_images/1493759501035454465/n7YEaIPp_normal.jpg',\n",
       "  'profile_banner_url': 'https://pbs.twimg.com/profile_banners/25254764/1568694384',\n",
       "  'profile_link_color': '990000',\n",
       "  'profile_sidebar_border_color': 'DFDFDF',\n",
       "  'profile_sidebar_fill_color': 'F3F3F3',\n",
       "  'profile_text_color': '333333',\n",
       "  'profile_use_background_image': True,\n",
       "  'has_extended_profile': True,\n",
       "  'default_profile': False,\n",
       "  'default_profile_image': False,\n",
       "  'following': False,\n",
       "  'follow_request_sent': False,\n",
       "  'notifications': False,\n",
       "  'translator_type': 'none',\n",
       "  'withheld_in_countries': []},\n",
       " 'retweeted_status': {'created_at': 'Sun Feb 05 13:06:38 +0000 2023',\n",
       "  'id': 1622220154770800000,\n",
       "  'id_str': '1622220154770800641',\n",
       "  'full_text': '@kugurtner @knoxens @spschweiz @FDP_Liberalen Und so vernünftig war die oft auch nicht. \\U0001fae3',\n",
       "  'truncated': False,\n",
       "  'display_text_range': [46, 89],\n",
       "  'entities': {'hashtags': [],\n",
       "   'symbols': [],\n",
       "   'user_mentions': [{'screen_name': 'kugurtner',\n",
       "     'name': 'Kuno Gurtner',\n",
       "     'id': 270908119,\n",
       "     'id_str': '270908119',\n",
       "     'indices': [0, 10]},\n",
       "    {'screen_name': 'knoxens',\n",
       "     'name': 'Thomas with a K 🇪🇺🇺🇸💛💙',\n",
       "     'id': 48852835,\n",
       "     'id_str': '48852835',\n",
       "     'indices': [11, 19]},\n",
       "    {'screen_name': 'spschweiz',\n",
       "     'name': 'SP Schweiz',\n",
       "     'id': 40681558,\n",
       "     'id_str': '40681558',\n",
       "     'indices': [20, 30]},\n",
       "    {'screen_name': 'FDP_Liberalen',\n",
       "     'name': 'FDP Schweiz',\n",
       "     'id': 39250641,\n",
       "     'id_str': '39250641',\n",
       "     'indices': [31, 45]}],\n",
       "   'urls': [],\n",
       "   'media': {}},\n",
       "  'source': '<a href=\"http://twitter.com/download/iphone\" rel=\"nofollow\">Twitter for iPhone</a>',\n",
       "  'in_reply_to_status_id': 1622214608109850000,\n",
       "  'in_reply_to_status_id_str': '1622214608109854720',\n",
       "  'in_reply_to_user_id': 270908119,\n",
       "  'in_reply_to_user_id_str': '270908119',\n",
       "  'in_reply_to_screen_name': 'kugurtner',\n",
       "  'user': {'id': 1356324200395450000,\n",
       "   'id_str': '1356324200395452416',\n",
       "   'name': 'Roland Hurschler 🥁',\n",
       "   'screen_name': 'rrolee_',\n",
       "   'location': '',\n",
       "   'description': 'green & culture politics 🌳🦋 MAS NPPM - global justice ⚖️ arthouse movies 🎬 whitewater SUP 🌊🏄🏽\\u200d♂️ save our winters! ❄️🗻indie music 🎸subculture 🧞',\n",
       "   'entities': {'description': {'urls': []}, 'url': {'urls': {}}},\n",
       "   'protected': False,\n",
       "   'followers_count': 386,\n",
       "   'friends_count': 395,\n",
       "   'listed_count': 9,\n",
       "   'created_at': 'Mon Feb 01 19:31:44 +0000 2021',\n",
       "   'favourites_count': 19883,\n",
       "   'geo_enabled': True,\n",
       "   'verified': False,\n",
       "   'statuses_count': 3233,\n",
       "   'contributors_enabled': False,\n",
       "   'is_translator': False,\n",
       "   'is_translation_enabled': False,\n",
       "   'profile_background_color': 'F5F8FA',\n",
       "   'profile_background_tile': False,\n",
       "   'profile_image_url': 'http://pbs.twimg.com/profile_images/1480474032109666305/pBV1zaVN_normal.jpg',\n",
       "   'profile_image_url_https': 'https://pbs.twimg.com/profile_images/1480474032109666305/pBV1zaVN_normal.jpg',\n",
       "   'profile_banner_url': 'https://pbs.twimg.com/profile_banners/1356324200395452416/1644836979',\n",
       "   'profile_link_color': '1DA1F2',\n",
       "   'profile_sidebar_border_color': 'C0DEED',\n",
       "   'profile_sidebar_fill_color': 'DDEEF6',\n",
       "   'profile_text_color': '333333',\n",
       "   'profile_use_background_image': True,\n",
       "   'has_extended_profile': True,\n",
       "   'default_profile': True,\n",
       "   'default_profile_image': False,\n",
       "   'following': False,\n",
       "   'follow_request_sent': False,\n",
       "   'notifications': False,\n",
       "   'translator_type': 'none',\n",
       "   'withheld_in_countries': []},\n",
       "  'place': {'contained_within': {},\n",
       "   'bounding_box': {'coordinates': {}},\n",
       "   'attributes': {}},\n",
       "  'is_quote_status': False,\n",
       "  'retweet_count': 1,\n",
       "  'favorite_count': 1,\n",
       "  'favorited': False,\n",
       "  'retweeted': False,\n",
       "  'lang': 'de',\n",
       "  'extended_entities': {'media': {}},\n",
       "  'quoted_status_permalink': {},\n",
       "  'quoted_status': {'display_text_range': {},\n",
       "   'entities': {'hashtags': {},\n",
       "    'symbols': {},\n",
       "    'user_mentions': {},\n",
       "    'urls': {},\n",
       "    'media': {}},\n",
       "   'extended_entities': {'media': {}},\n",
       "   'user': {'entities': {'url': {'urls': {}}, 'description': {'urls': {}}},\n",
       "    'withheld_in_countries': {}},\n",
       "   'place': {'contained_within': {},\n",
       "    'bounding_box': {'coordinates': {}},\n",
       "    'attributes': {}},\n",
       "   'quoted_status_permalink': {},\n",
       "   'withheld_in_countries': {}}},\n",
       " 'is_quote_status': False,\n",
       " 'retweet_count': 1,\n",
       " 'favorite_count': 0,\n",
       " 'favorited': False,\n",
       " 'retweeted': False,\n",
       " 'lang': 'de',\n",
       " 'extended_entities': {'media': {}},\n",
       " 'quoted_status_permalink': {}}"
      ]
     },
     "execution_count": 5,
     "metadata": {},
     "output_type": "execute_result"
    }
   ],
   "source": [
    "swiss_tweets[0]"
   ]
  },
  {
   "cell_type": "markdown",
   "id": "98aba511",
   "metadata": {},
   "source": [
    "### Exercise 2: Build a Graph"
   ]
  },
  {
   "cell_type": "markdown",
   "id": "bdf60540",
   "metadata": {},
   "source": [
    "Now we need to extract the information we need from the json object. Each node in the network should represent a politician, and stores their Twitter user id, username, and party affiliation. An edge exists between a pair of politicians that exchanged at least one retweet with each other (regardless of the direction).\n"
   ]
  },
  {
   "cell_type": "markdown",
   "id": "70918939",
   "metadata": {},
   "source": [
    "#### 2.1 Extract the necessary information from the data (for the edges)"
   ]
  },
  {
   "cell_type": "markdown",
   "id": "fbe0c92a",
   "metadata": {},
   "source": [
    "First, get the user id (from`['user']['id_str']`) and the ids of the retweets (from`['retweeted_status']['user']['id_str']`) in a list of dictionaries. Note that some tweets are not retweets and wont have information under `['retweeted_status']`, so you might want to use `try:...   except:...`"
   ]
  },
  {
   "cell_type": "code",
   "execution_count": 6,
   "id": "4aac4c88-c149-4d52-a8fb-c08bae8ed913",
   "metadata": {},
   "outputs": [
    {
     "data": {
      "text/plain": [
       "'25254764'"
      ]
     },
     "execution_count": 6,
     "metadata": {},
     "output_type": "execute_result"
    }
   ],
   "source": [
    "user_id = swiss_tweets[0]['user']['id_str']\n",
    "user_id"
   ]
  },
  {
   "cell_type": "code",
   "execution_count": 7,
   "id": "1b851c41",
   "metadata": {},
   "outputs": [],
   "source": [
    "edge_list = []\n",
    "\n",
    "for user in swiss_tweets:\n",
    "    try:\n",
    "        user_id = user['user']['id_str']  # Accessing current tweet's user ID\n",
    "        if 'retweeted_status' in user:  # Check if retweeted_status exists\n",
    "            retweet_ids = user['retweeted_status']['user']['id_str']\n",
    "        else:\n",
    "            retweet_ids = None\n",
    "    except KeyError:\n",
    "        retweet_ids = None\n",
    "\n",
    "    edge_list.append({'user_id': user_id, 'retweet_ids': retweet_ids})\n"
   ]
  },
  {
   "cell_type": "code",
   "execution_count": 8,
   "id": "7ed41ddb-0655-4101-8515-edf8ecce06e6",
   "metadata": {},
   "outputs": [
    {
     "data": {
      "text/plain": [
       "{'user_id': '25254764', 'retweet_ids': '1356324200395452416'}"
      ]
     },
     "execution_count": 8,
     "metadata": {},
     "output_type": "execute_result"
    }
   ],
   "source": [
    "edge_list[0]"
   ]
  },
  {
   "cell_type": "markdown",
   "id": "9dc3af56",
   "metadata": {},
   "source": [
    "Turn the json into a pandas dataframe so it is easier to manipulated the data."
   ]
  },
  {
   "cell_type": "code",
   "execution_count": 43,
   "id": "050ef8ef",
   "metadata": {},
   "outputs": [],
   "source": [
    "tweets_df = pd.json_normalize(edge_list)"
   ]
  },
  {
   "cell_type": "code",
   "execution_count": 44,
   "id": "dfe2ceb0-a67a-4af2-afa8-2ce15a4f60c4",
   "metadata": {},
   "outputs": [
    {
     "data": {
      "text/html": [
       "<div>\n",
       "<style scoped>\n",
       "    .dataframe tbody tr th:only-of-type {\n",
       "        vertical-align: middle;\n",
       "    }\n",
       "\n",
       "    .dataframe tbody tr th {\n",
       "        vertical-align: top;\n",
       "    }\n",
       "\n",
       "    .dataframe thead th {\n",
       "        text-align: right;\n",
       "    }\n",
       "</style>\n",
       "<table border=\"1\" class=\"dataframe\">\n",
       "  <thead>\n",
       "    <tr style=\"text-align: right;\">\n",
       "      <th></th>\n",
       "      <th>user_id</th>\n",
       "      <th>retweet_ids</th>\n",
       "    </tr>\n",
       "  </thead>\n",
       "  <tbody>\n",
       "    <tr>\n",
       "      <th>0</th>\n",
       "      <td>25254764</td>\n",
       "      <td>1356324200395452416</td>\n",
       "    </tr>\n",
       "    <tr>\n",
       "      <th>1</th>\n",
       "      <td>25254764</td>\n",
       "      <td>3429870843</td>\n",
       "    </tr>\n",
       "    <tr>\n",
       "      <th>2</th>\n",
       "      <td>25254764</td>\n",
       "      <td>850411260323692545</td>\n",
       "    </tr>\n",
       "    <tr>\n",
       "      <th>3</th>\n",
       "      <td>25254764</td>\n",
       "      <td>808278027717251072</td>\n",
       "    </tr>\n",
       "    <tr>\n",
       "      <th>4</th>\n",
       "      <td>25254764</td>\n",
       "      <td>74263637</td>\n",
       "    </tr>\n",
       "    <tr>\n",
       "      <th>...</th>\n",
       "      <td>...</td>\n",
       "      <td>...</td>\n",
       "    </tr>\n",
       "    <tr>\n",
       "      <th>51363</th>\n",
       "      <td>238913030</td>\n",
       "      <td>None</td>\n",
       "    </tr>\n",
       "    <tr>\n",
       "      <th>51364</th>\n",
       "      <td>238913030</td>\n",
       "      <td>None</td>\n",
       "    </tr>\n",
       "    <tr>\n",
       "      <th>51365</th>\n",
       "      <td>238913030</td>\n",
       "      <td>None</td>\n",
       "    </tr>\n",
       "    <tr>\n",
       "      <th>51366</th>\n",
       "      <td>238913030</td>\n",
       "      <td>None</td>\n",
       "    </tr>\n",
       "    <tr>\n",
       "      <th>51367</th>\n",
       "      <td>238913030</td>\n",
       "      <td>None</td>\n",
       "    </tr>\n",
       "  </tbody>\n",
       "</table>\n",
       "<p>51368 rows × 2 columns</p>\n",
       "</div>"
      ],
      "text/plain": [
       "         user_id          retweet_ids\n",
       "0       25254764  1356324200395452416\n",
       "1       25254764           3429870843\n",
       "2       25254764   850411260323692545\n",
       "3       25254764   808278027717251072\n",
       "4       25254764             74263637\n",
       "...          ...                  ...\n",
       "51363  238913030                 None\n",
       "51364  238913030                 None\n",
       "51365  238913030                 None\n",
       "51366  238913030                 None\n",
       "51367  238913030                 None\n",
       "\n",
       "[51368 rows x 2 columns]"
      ]
     },
     "execution_count": 44,
     "metadata": {},
     "output_type": "execute_result"
    }
   ],
   "source": [
    "tweets_df"
   ]
  },
  {
   "cell_type": "markdown",
   "id": "fca92d97",
   "metadata": {},
   "source": [
    "#### 2.2 Create a list with the nodes\n",
    "For building the nodes we need the username, id and party of each user. Since, we cannot get the party of the users from the json, we will get it from a `users.csv`. This file also contains the user id, and user name of each user."
   ]
  },
  {
   "cell_type": "markdown",
   "id": "79f9b381",
   "metadata": {},
   "source": [
    "First, you will need to load the `users.csv` data. It will be useful to store it as a pandas dataframe, so you can merge it later. \n",
    "Hint: You can use `pd.read_csv()`to load a .csv as a pandas dataframe."
   ]
  },
  {
   "cell_type": "code",
   "execution_count": 11,
   "id": "b510dc18",
   "metadata": {},
   "outputs": [
    {
     "data": {
      "text/plain": [
       "Index(['pinned_tweet_id', 'id', 'description', 'name', 'protected', 'verified',\n",
       "       'created_at', 'location', 'profile_image_url', 'username', 'url',\n",
       "       'public_metrics.followers_count', 'public_metrics.following_count',\n",
       "       'public_metrics.tweet_count', 'public_metrics.listed_count',\n",
       "       'entities.url.urls', 'entities.description.mentions',\n",
       "       'entities.description.urls', 'entities.description.hashtags',\n",
       "       'screenName', 'party'],\n",
       "      dtype='object')"
      ]
     },
     "execution_count": 11,
     "metadata": {},
     "output_type": "execute_result"
    }
   ],
   "source": [
    "users = pd.read_csv(\"users.csv\")\n",
    "users.columns"
   ]
  },
  {
   "cell_type": "code",
   "execution_count": 12,
   "id": "54fbdb5e-97da-45eb-bb24-bce509b7b436",
   "metadata": {},
   "outputs": [
    {
     "data": {
      "text/html": [
       "<div>\n",
       "<style scoped>\n",
       "    .dataframe tbody tr th:only-of-type {\n",
       "        vertical-align: middle;\n",
       "    }\n",
       "\n",
       "    .dataframe tbody tr th {\n",
       "        vertical-align: top;\n",
       "    }\n",
       "\n",
       "    .dataframe thead th {\n",
       "        text-align: right;\n",
       "    }\n",
       "</style>\n",
       "<table border=\"1\" class=\"dataframe\">\n",
       "  <thead>\n",
       "    <tr style=\"text-align: right;\">\n",
       "      <th></th>\n",
       "      <th>pinned_tweet_id</th>\n",
       "      <th>id</th>\n",
       "      <th>description</th>\n",
       "      <th>name</th>\n",
       "      <th>protected</th>\n",
       "      <th>verified</th>\n",
       "      <th>created_at</th>\n",
       "      <th>location</th>\n",
       "      <th>profile_image_url</th>\n",
       "      <th>username</th>\n",
       "      <th>...</th>\n",
       "      <th>public_metrics.followers_count</th>\n",
       "      <th>public_metrics.following_count</th>\n",
       "      <th>public_metrics.tweet_count</th>\n",
       "      <th>public_metrics.listed_count</th>\n",
       "      <th>entities.url.urls</th>\n",
       "      <th>entities.description.mentions</th>\n",
       "      <th>entities.description.urls</th>\n",
       "      <th>entities.description.hashtags</th>\n",
       "      <th>screenName</th>\n",
       "      <th>party</th>\n",
       "    </tr>\n",
       "  </thead>\n",
       "  <tbody>\n",
       "    <tr>\n",
       "      <th>0</th>\n",
       "      <td>1.180884e+18</td>\n",
       "      <td>25254764</td>\n",
       "      <td>Gemeinderat. Arbeitet in der ETH-Bibliothek. T...</td>\n",
       "      <td>Andreas Kirstein</td>\n",
       "      <td>False</td>\n",
       "      <td>False</td>\n",
       "      <td>2009-03-19T07:21:05.000Z</td>\n",
       "      <td>Zürich</td>\n",
       "      <td>https://pbs.twimg.com/profile_images/149375950...</td>\n",
       "      <td>andreaskirstein</td>\n",
       "      <td>...</td>\n",
       "      <td>734.0</td>\n",
       "      <td>518.0</td>\n",
       "      <td>13312.0</td>\n",
       "      <td>37.0</td>\n",
       "      <td>[{'start': 0, 'end': 23, 'url': 'https://t.co/...</td>\n",
       "      <td>NaN</td>\n",
       "      <td>NaN</td>\n",
       "      <td>NaN</td>\n",
       "      <td>andreaskirstein</td>\n",
       "      <td>AL</td>\n",
       "    </tr>\n",
       "    <tr>\n",
       "      <th>1</th>\n",
       "      <td>1.489913e+18</td>\n",
       "      <td>472372843</td>\n",
       "      <td>Alt-Gemeinderat Winterthur (Alternative Liste)...</td>\n",
       "      <td>David B. aus W. 📠 🚱🦬✭</td>\n",
       "      <td>False</td>\n",
       "      <td>False</td>\n",
       "      <td>2012-01-23T21:48:27.000Z</td>\n",
       "      <td>Winterthur</td>\n",
       "      <td>https://pbs.twimg.com/profile_images/131178937...</td>\n",
       "      <td>bergerwthur</td>\n",
       "      <td>...</td>\n",
       "      <td>525.0</td>\n",
       "      <td>373.0</td>\n",
       "      <td>8182.0</td>\n",
       "      <td>17.0</td>\n",
       "      <td>[{'start': 0, 'end': 23, 'url': 'https://t.co/...</td>\n",
       "      <td>NaN</td>\n",
       "      <td>NaN</td>\n",
       "      <td>NaN</td>\n",
       "      <td>bergerwthur</td>\n",
       "      <td>AL</td>\n",
       "    </tr>\n",
       "  </tbody>\n",
       "</table>\n",
       "<p>2 rows × 21 columns</p>\n",
       "</div>"
      ],
      "text/plain": [
       "   pinned_tweet_id         id  \\\n",
       "0     1.180884e+18   25254764   \n",
       "1     1.489913e+18  472372843   \n",
       "\n",
       "                                         description                   name  \\\n",
       "0  Gemeinderat. Arbeitet in der ETH-Bibliothek. T...       Andreas Kirstein   \n",
       "1  Alt-Gemeinderat Winterthur (Alternative Liste)...  David B. aus W. 📠 🚱🦬✭   \n",
       "\n",
       "   protected  verified                created_at    location  \\\n",
       "0      False     False  2009-03-19T07:21:05.000Z      Zürich   \n",
       "1      False     False  2012-01-23T21:48:27.000Z  Winterthur   \n",
       "\n",
       "                                   profile_image_url         username  ...  \\\n",
       "0  https://pbs.twimg.com/profile_images/149375950...  andreaskirstein  ...   \n",
       "1  https://pbs.twimg.com/profile_images/131178937...      bergerwthur  ...   \n",
       "\n",
       "  public_metrics.followers_count  public_metrics.following_count  \\\n",
       "0                          734.0                           518.0   \n",
       "1                          525.0                           373.0   \n",
       "\n",
       "   public_metrics.tweet_count  public_metrics.listed_count  \\\n",
       "0                     13312.0                         37.0   \n",
       "1                      8182.0                         17.0   \n",
       "\n",
       "                                   entities.url.urls  \\\n",
       "0  [{'start': 0, 'end': 23, 'url': 'https://t.co/...   \n",
       "1  [{'start': 0, 'end': 23, 'url': 'https://t.co/...   \n",
       "\n",
       "  entities.description.mentions entities.description.urls  \\\n",
       "0                           NaN                       NaN   \n",
       "1                           NaN                       NaN   \n",
       "\n",
       "  entities.description.hashtags       screenName party  \n",
       "0                           NaN  andreaskirstein    AL  \n",
       "1                           NaN      bergerwthur    AL  \n",
       "\n",
       "[2 rows x 21 columns]"
      ]
     },
     "execution_count": 12,
     "metadata": {},
     "output_type": "execute_result"
    }
   ],
   "source": [
    "users.head(2)"
   ]
  },
  {
   "cell_type": "markdown",
   "id": "5234c9da",
   "metadata": {},
   "source": [
    "For the nodes to be build you will need to store the information in a list of tuples of the form `(user_id,{'username':user.screenName,'party':user.party})`. The first element will identify the node and the second element is a dictionary which stores the attributes of the node. \n",
    "Hint: You can use the methos `.itertuples()` to iterate over the rows of a pandas dataframe"
   ]
  },
  {
   "cell_type": "code",
   "execution_count": 45,
   "id": "988df662-e43c-47a9-a27a-1d6de8722d90",
   "metadata": {},
   "outputs": [],
   "source": [
    "nodes = [(str(row.id), {'username': row.screenName, 'party':row.party}) for row in users.itertuples(index=False)]"
   ]
  },
  {
   "cell_type": "code",
   "execution_count": 46,
   "id": "2a18a9b4-6db8-4d93-ac9a-929520dfaef1",
   "metadata": {},
   "outputs": [
    {
     "data": {
      "text/plain": [
       "('25254764', {'username': 'andreaskirstein', 'party': 'AL'})"
      ]
     },
     "execution_count": 46,
     "metadata": {},
     "output_type": "execute_result"
    }
   ],
   "source": [
    "nodes[0]"
   ]
  },
  {
   "cell_type": "code",
   "execution_count": 15,
   "id": "e0f5c82b-6dc0-43b1-afd4-8ff9414e6985",
   "metadata": {},
   "outputs": [],
   "source": [
    "# # uglier way\n",
    "# node_list = []\n",
    "# for row in users.itertuples(index=False):\n",
    "#     node_list.append((row[1], {'username': row.screenName, 'party':row.party}))\n",
    "\n",
    "# print(node_list[0:3])"
   ]
  },
  {
   "cell_type": "markdown",
   "id": "148a1725",
   "metadata": {},
   "source": [
    "#### 2.3 Create a list with the edges"
   ]
  },
  {
   "cell_type": "markdown",
   "id": "351915ff",
   "metadata": {},
   "source": [
    "For the edges we are interested in the tweets where the retweet_user_id corresponds to the user_id of one of the politicians (nodes). So we will first filter out irrelevant tweets from our previously created dataframe.\n",
    "Hint: You can get all the user ids as a list and then check if a given `retweet_user_id` is in the list using the method `.isin() ` on the column of the dataframe. Note that the id in the users.csv is loaded as an integer and not a string\n",
    "\n"
   ]
  },
  {
   "cell_type": "code",
   "execution_count": 47,
   "id": "92112142",
   "metadata": {},
   "outputs": [
    {
     "data": {
      "text/plain": [
       "'25254764'"
      ]
     },
     "execution_count": 47,
     "metadata": {},
     "output_type": "execute_result"
    }
   ],
   "source": [
    "pol_ids = [str(x[0]) for x in nodes]\n",
    "pol_ids[0]"
   ]
  },
  {
   "cell_type": "code",
   "execution_count": 48,
   "id": "4593194d-eba3-4f1c-9ae0-6bb792e29406",
   "metadata": {},
   "outputs": [],
   "source": [
    "tweets_dfnew = tweets_df[tweets_df['retweet_ids'].isin(pol_ids) == True]"
   ]
  },
  {
   "cell_type": "code",
   "execution_count": 49,
   "id": "9ba44d7e-2ae0-4b5a-8964-7cf6a42d3ff8",
   "metadata": {},
   "outputs": [
    {
     "data": {
      "text/plain": [
       "51368"
      ]
     },
     "execution_count": 49,
     "metadata": {},
     "output_type": "execute_result"
    }
   ],
   "source": [
    "len(tweets_df)"
   ]
  },
  {
   "cell_type": "code",
   "execution_count": 50,
   "id": "2f7026d6-f3e7-48e6-abe1-15edfa33533f",
   "metadata": {},
   "outputs": [
    {
     "data": {
      "text/html": [
       "<div>\n",
       "<style scoped>\n",
       "    .dataframe tbody tr th:only-of-type {\n",
       "        vertical-align: middle;\n",
       "    }\n",
       "\n",
       "    .dataframe tbody tr th {\n",
       "        vertical-align: top;\n",
       "    }\n",
       "\n",
       "    .dataframe thead th {\n",
       "        text-align: right;\n",
       "    }\n",
       "</style>\n",
       "<table border=\"1\" class=\"dataframe\">\n",
       "  <thead>\n",
       "    <tr style=\"text-align: right;\">\n",
       "      <th></th>\n",
       "      <th>user_id</th>\n",
       "      <th>retweet_ids</th>\n",
       "    </tr>\n",
       "  </thead>\n",
       "  <tbody>\n",
       "    <tr>\n",
       "      <th>449</th>\n",
       "      <td>778497337</td>\n",
       "      <td>25254764</td>\n",
       "    </tr>\n",
       "    <tr>\n",
       "      <th>479</th>\n",
       "      <td>778497337</td>\n",
       "      <td>25254764</td>\n",
       "    </tr>\n",
       "    <tr>\n",
       "      <th>481</th>\n",
       "      <td>778497337</td>\n",
       "      <td>25254764</td>\n",
       "    </tr>\n",
       "    <tr>\n",
       "      <th>483</th>\n",
       "      <td>778497337</td>\n",
       "      <td>25254764</td>\n",
       "    </tr>\n",
       "    <tr>\n",
       "      <th>508</th>\n",
       "      <td>778497337</td>\n",
       "      <td>778497337</td>\n",
       "    </tr>\n",
       "  </tbody>\n",
       "</table>\n",
       "</div>"
      ],
      "text/plain": [
       "       user_id retweet_ids\n",
       "449  778497337    25254764\n",
       "479  778497337    25254764\n",
       "481  778497337    25254764\n",
       "483  778497337    25254764\n",
       "508  778497337   778497337"
      ]
     },
     "execution_count": 50,
     "metadata": {},
     "output_type": "execute_result"
    }
   ],
   "source": [
    "len(tweets_dfnew)\n",
    "tweets_dfnew.head()"
   ]
  },
  {
   "cell_type": "markdown",
   "id": "b3cf0038",
   "metadata": {},
   "source": [
    "Now we can create a list of the edges as tuples `(user_id,retweet_id)` \n",
    "Hint: Here you might want to iterate over the rows of your filtered dataframe"
   ]
  },
  {
   "cell_type": "code",
   "execution_count": 51,
   "id": "a3c43c03",
   "metadata": {},
   "outputs": [
    {
     "data": {
      "text/plain": [
       "('778497337', '25254764')"
      ]
     },
     "execution_count": 51,
     "metadata": {},
     "output_type": "execute_result"
    }
   ],
   "source": [
    "edges = [(row.user_id, row.retweet_ids) for row in tweets_dfnew.itertuples(index=False)]\n",
    "edges[0]"
   ]
  },
  {
   "cell_type": "markdown",
   "id": "94ce6d2d",
   "metadata": {},
   "source": [
    "There are probably some repeated edges, e.g if a user retweeted another user multiple times. Since we are only interested in wheter they interacted or not, we can get rid of repeated edges."
   ]
  },
  {
   "cell_type": "code",
   "execution_count": 21,
   "id": "ec5c26d1",
   "metadata": {},
   "outputs": [],
   "source": [
    "edges=list(set(edges))"
   ]
  },
  {
   "cell_type": "markdown",
   "id": "aa7d2aaf",
   "metadata": {},
   "source": [
    "You might want to get rid of edges where an user retweeted himself. For this filter out tuples where both elements are the same"
   ]
  },
  {
   "cell_type": "code",
   "execution_count": 52,
   "id": "e1619933",
   "metadata": {},
   "outputs": [
    {
     "data": {
      "text/plain": [
       "('778497337', '25254764')"
      ]
     },
     "execution_count": 52,
     "metadata": {},
     "output_type": "execute_result"
    }
   ],
   "source": [
    "edges[0] # doing this later\n",
    "#G.remove_edges_from(nx.selfloop_edges(G))"
   ]
  },
  {
   "cell_type": "markdown",
   "id": "f51f54f8",
   "metadata": {},
   "source": [
    "#### 2.4 Build the graph\n",
    "\n",
    "For this part use the modul [`networkx`](https://networkx.org/). \n",
    "* Create an empty graph object\n",
    "* Add the nodes using the method ` add_nodes_from(your_list) `\n",
    "* Add the edges using the method ` add_edges_from(your_list) `"
   ]
  },
  {
   "cell_type": "code",
   "execution_count": 113,
   "id": "b6f54b3e",
   "metadata": {},
   "outputs": [],
   "source": [
    "G = nx.Graph()\n",
    "G.add_nodes_from(nodes)\n",
    "G.add_edges_from(edges)"
   ]
  },
  {
   "cell_type": "code",
   "execution_count": 114,
   "id": "ad4031b9-6634-4c0d-8082-82aa5209548e",
   "metadata": {},
   "outputs": [],
   "source": [
    "G.remove_edges_from(nx.selfloop_edges(G))"
   ]
  },
  {
   "cell_type": "markdown",
   "id": "72f73590",
   "metadata": {},
   "source": [
    "You can store the graph using [`nx.write_gexf()`](https://networkx.org/documentation/stable/reference/readwrite/generated/networkx.readwrite.gexf.write_gexf.html#networkx.readwrite.gexf.write_gexf)"
   ]
  },
  {
   "cell_type": "code",
   "execution_count": 115,
   "id": "c40cd6e1",
   "metadata": {},
   "outputs": [],
   "source": [
    "nx.write_gexf(G, \"swiss_tweets.gexf\", encoding='utf-8',)"
   ]
  },
  {
   "cell_type": "markdown",
   "id": "9a1679cc",
   "metadata": {},
   "source": [
    "### Exercise 3: Visualize the graph\n",
    "\n",
    "Yor can use [`nx.draw()`](https://networkx.org/documentation/stable/reference/drawing.html) for visualizing your graph. You can play around with diffrent parameters that can be found in the [documentation](https://networkx.org/documentation/stable/reference/drawing.html), for example the graph layout can be given trough the `pos=` argument."
   ]
  },
  {
   "cell_type": "code",
   "execution_count": 116,
   "id": "a137eea2",
   "metadata": {},
   "outputs": [
    {
     "data": {
      "image/png": "[encoded data removed]",
      "text/plain": [
       "<Figure size 432x288 with 1 Axes>"
      ]
     },
     "metadata": {},
     "output_type": "display_data"
    }
   ],
   "source": [
    "nx.draw(G, with_labels=False, node_size=2, width=1)"
   ]
  },
  {
   "cell_type": "markdown",
   "id": "90545605-d07d-4760-9c42-8fbf04bd27e1",
   "metadata": {},
   "source": [
    "### Extra: Coloring by parties"
   ]
  },
  {
   "cell_type": "code",
   "execution_count": 141,
   "id": "08921f8f-c0f5-4a7d-b99c-b03c3d24a59b",
   "metadata": {},
   "outputs": [
    {
     "name": "stdout",
     "output_type": "stream",
     "text": [
      "{'AL', 'EDU', 'EVP', 'FDP', 'BDP', 'SVP', 'CVP', 'GLP', 'SP', 'UP', 'Green'}\n"
     ]
    }
   ],
   "source": [
    "# Get unique parties from the nodes\n",
    "unique_parties = set(node[1]['party'] for node in nodes)\n",
    "print(unique_parties)"
   ]
  },
  {
   "cell_type": "code",
   "execution_count": 153,
   "id": "8ca1d08a-b58b-4cda-83ea-0df0f06c8756",
   "metadata": {},
   "outputs": [
    {
     "name": "stdout",
     "output_type": "stream",
     "text": [
      "['#acc2d9', '#56ae57', '#b2996e', '#a8ff04', '#69d84f', '#894585', '#70b23f', '#d4ffff', '#65ab7c', '#952e8f', '#fcfc81']\n"
     ]
    }
   ],
   "source": [
    "import matplotlib.colors as mcolors\n",
    "colors = list(mcolors.XKCD_COLORS.values())[:11]\n",
    "print(colors)"
   ]
  },
  {
   "cell_type": "code",
   "execution_count": 154,
   "id": "02acb912-16c6-45f6-83e3-ce1109e1a9bc",
   "metadata": {},
   "outputs": [],
   "source": [
    "party_colors = {party: colors[i % len(colors)] for i, party in enumerate(unique_parties)}"
   ]
  },
  {
   "cell_type": "code",
   "execution_count": 155,
   "id": "dedd3ac9-1e87-4160-956b-e25b998b9197",
   "metadata": {},
   "outputs": [
    {
     "data": {
      "text/plain": [
       "{'AL': '#acc2d9',\n",
       " 'EDU': '#56ae57',\n",
       " 'EVP': '#b2996e',\n",
       " 'FDP': '#a8ff04',\n",
       " 'BDP': '#69d84f',\n",
       " 'SVP': '#894585',\n",
       " 'CVP': '#70b23f',\n",
       " 'GLP': '#d4ffff',\n",
       " 'SP': '#65ab7c',\n",
       " 'UP': '#952e8f',\n",
       " 'Green': '#fcfc81'}"
      ]
     },
     "execution_count": 155,
     "metadata": {},
     "output_type": "execute_result"
    }
   ],
   "source": [
    "party_colors"
   ]
  },
  {
   "cell_type": "code",
   "execution_count": null,
   "id": "64b0762d-1c0a-4398-8775-89fb61f8384b",
   "metadata": {},
   "outputs": [],
   "source": []
  },
  {
   "cell_type": "code",
   "execution_count": 189,
   "id": "a04bf9a1-55b3-4357-bfb5-e573b13f3f64",
   "metadata": {},
   "outputs": [
    {
     "ename": "TypeError",
     "evalue": "unhashable type: 'dict'",
     "output_type": "error",
     "traceback": [
      "\u001b[0;31m---------------------------------------------------------------------------\u001b[0m",
      "\u001b[0;31mTypeError\u001b[0m                                 Traceback (most recent call last)",
      "\u001b[0;32m/tmp/ipykernel_34998/4104687523.py\u001b[0m in \u001b[0;36m<module>\u001b[0;34m\u001b[0m\n\u001b[1;32m      4\u001b[0m     \u001b[0mparty\u001b[0m \u001b[0;34m=\u001b[0m \u001b[0mnx\u001b[0m\u001b[0;34m.\u001b[0m\u001b[0mget_node_attributes\u001b[0m\u001b[0;34m(\u001b[0m\u001b[0mG\u001b[0m\u001b[0;34m,\u001b[0m \u001b[0;34m\"party\"\u001b[0m\u001b[0;34m)\u001b[0m\u001b[0;34m\u001b[0m\u001b[0;34m\u001b[0m\u001b[0m\n\u001b[1;32m      5\u001b[0m     \u001b[0;31m# Get the corresponding color from the party_colors dictionary, defaulting to 'red' if not found\u001b[0m\u001b[0;34m\u001b[0m\u001b[0;34m\u001b[0m\u001b[0m\n\u001b[0;32m----> 6\u001b[0;31m     \u001b[0mcolor\u001b[0m \u001b[0;34m=\u001b[0m \u001b[0mparty_colors\u001b[0m\u001b[0;34m.\u001b[0m\u001b[0mget\u001b[0m\u001b[0;34m(\u001b[0m\u001b[0mparty\u001b[0m\u001b[0;34m,\u001b[0m \u001b[0;34m'red'\u001b[0m\u001b[0;34m)\u001b[0m\u001b[0;34m\u001b[0m\u001b[0;34m\u001b[0m\u001b[0m\n\u001b[0m\u001b[1;32m      7\u001b[0m     \u001b[0;31m# Set the 'color' attribute for the current node\u001b[0m\u001b[0;34m\u001b[0m\u001b[0;34m\u001b[0m\u001b[0m\n\u001b[1;32m      8\u001b[0m     \u001b[0mnx\u001b[0m\u001b[0;34m.\u001b[0m\u001b[0mset_node_attributes\u001b[0m\u001b[0;34m(\u001b[0m\u001b[0mG\u001b[0m\u001b[0;34m,\u001b[0m \u001b[0;34m{\u001b[0m\u001b[0mnode\u001b[0m\u001b[0;34m:\u001b[0m \u001b[0mcolor\u001b[0m\u001b[0;34m}\u001b[0m\u001b[0;34m,\u001b[0m \u001b[0mname\u001b[0m\u001b[0;34m=\u001b[0m\u001b[0;34m'color'\u001b[0m\u001b[0;34m)\u001b[0m\u001b[0;34m\u001b[0m\u001b[0;34m\u001b[0m\u001b[0m\n",
      "\u001b[0;31mTypeError\u001b[0m: unhashable type: 'dict'"
     ]
    }
   ],
   "source": [
    "# Iterate over each node in the graph\n",
    "for node in G.nodes:\n",
    "    # Get the party attribute for the current node\n",
    "    party = nx.get_node_attributes(G, \"party\")\n",
    "    # Get the corresponding color from the party_colors dictionary, defaulting to 'red' if not found\n",
    "    color = party_colors.get(party, 'red')\n",
    "    # Set the 'color' attribute for the current node\n",
    "    nx.set_node_attributes(G, {node: color}, name='color')"
   ]
  },
  {
   "cell_type": "code",
   "execution_count": 182,
   "id": "8e1b099e-b38d-488f-b796-661d8cf59f43",
   "metadata": {
    "scrolled": true
   },
   "outputs": [],
   "source": [
    "# older, maybe problematic function\n",
    "node_colors = []\n",
    "\n",
    "for node in G.nodes:\n",
    "    if nx.get_node_attributes(G, 'party') == 'AL':\n",
    "        node_colors.append(\"blue\")\n",
    "    else: \n",
    "        node_colors.append(\"pink\")"
   ]
  },
  {
   "cell_type": "code",
   "execution_count": 183,
   "id": "0c963a09-38d3-4d8a-aba4-e2a4b95a2ee0",
   "metadata": {},
   "outputs": [
    {
     "data": {
      "image/png": "[encoded data removed]",
      "text/plain": [
       "<Figure size 432x288 with 1 Axes>"
      ]
     },
     "metadata": {},
     "output_type": "display_data"
    }
   ],
   "source": [
    "nx.draw(G, node_color=node_colors, node_size = 2)"
   ]
  },
  {
   "cell_type": "code",
   "execution_count": 119,
   "id": "da591e3c-a51a-4f10-9947-c385f93c372c",
   "metadata": {},
   "outputs": [],
   "source": [
    "# remove isolates\n",
    "list(nx.isolates(G))\n",
    "G.remove_nodes_from(list(nx.isolates(G)))"
   ]
  },
  {
   "cell_type": "code",
   "execution_count": 120,
   "id": "46660fe4-39de-49be-8405-245b121f8dc5",
   "metadata": {},
   "outputs": [
    {
     "data": {
      "image/png": "[encoded data removed]",
      "text/plain": [
       "<Figure size 432x288 with 1 Axes>"
      ]
     },
     "metadata": {},
     "output_type": "display_data"
    }
   ],
   "source": [
    "nx.draw(G, node_size = 2)"
   ]
  },
  {
   "cell_type": "markdown",
   "id": "0d48e2db",
   "metadata": {},
   "source": [
    "### To learn more:\n",
    "Try to color each node according to the party affiliation.\n",
    "* Get the party using ` nx.get_node_attributes() `\n",
    "* You can use a dictionary to assign a color based on the party\n",
    "* Pass the list of associated colors to the option ` node_color` from draw_networkx()"
   ]
  }
 ],
 "metadata": {
  "kernelspec": {
   "display_name": "Python 3 (ipykernel)",
   "language": "python",
   "name": "python3"
  },
  "language_info": {
   "codemirror_mode": {
    "name": "ipython",
    "version": 3
   },
   "file_extension": ".py",
   "mimetype": "text/x-python",
   "name": "python",
   "nbconvert_exporter": "python",
   "pygments_lexer": "ipython3",
   "version": "3.10.12"
  },
  "vscode": {
   "interpreter": {
    "hash": "46e2835a142a16ae115bce5fddf19f27ce13b17a4ab8ded638c88ab5ce5171d2"
   }
  }
 },
 "nbformat": 4,
 "nbformat_minor": 5
}
